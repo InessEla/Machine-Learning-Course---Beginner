{
 "cells": [
  {
   "cell_type": "code",
   "execution_count": null,
   "id": "9ff3c9d8",
   "metadata": {
    "papermill": {
     "duration": 0.006593,
     "end_time": "2024-09-10T11:03:24.428984",
     "exception": false,
     "start_time": "2024-09-10T11:03:24.422391",
     "status": "completed"
    },
    "tags": []
   },
   "outputs": [],
   "source": []
  },
  {
   "cell_type": "markdown",
   "id": "ad381436",
   "metadata": {
    "_cell_guid": "b1076dfc-b9ad-4769-8c92-a6c4dae69d19",
    "_uuid": "8f2839f25d086af736a60e9eeb907d3b93b6e0e5",
    "papermill": {
     "duration": 0.00602,
     "end_time": "2024-09-10T11:03:24.441077",
     "exception": false,
     "start_time": "2024-09-10T11:03:24.435057",
     "status": "completed"
    },
    "tags": []
   },
   "source": [
    "# Session 3: Model Evaluation"
   ]
  },
  {
   "cell_type": "markdown",
   "id": "96519e2f",
   "metadata": {
    "papermill": {
     "duration": 0.005592,
     "end_time": "2024-09-10T11:03:24.452689",
     "exception": false,
     "start_time": "2024-09-10T11:03:24.447097",
     "status": "completed"
    },
    "tags": []
   },
   "source": [
    "Welcome to Session 3! So far, we’ve covered supervised and unsupervised learning, and learned how to preprocess data and build models. Now, we’ll focus on evaluating model performanceThis is critical because building a model is just the first step – ensuring it performs well is equally important.\n",
    "\n",
    "We will:\n",
    "\n",
    "* Understand different model evaluation metrics.\n"
   ]
  },
  {
   "cell_type": "markdown",
   "id": "6116ea88",
   "metadata": {
    "papermill": {
     "duration": 0.005563,
     "end_time": "2024-09-10T11:03:24.464087",
     "exception": false,
     "start_time": "2024-09-10T11:03:24.458524",
     "status": "completed"
    },
    "tags": []
   },
   "source": [
    "1. Model Evaluation\n",
    "\n",
    "After building a machine learning model, it is crucial to evaluate how well the model performs. Different types of models (e.g., classification, regression) require different evaluation metrics.\n",
    "\n",
    "Step 1: Load a Dataset\n",
    "\n",
    "For this session, we will use Breast Cancer Wisconsin dataset. We will use it for classification tasks and evaluate a model’s performance.\n",
    "\n"
   ]
  },
  {
   "cell_type": "code",
   "execution_count": 1,
   "id": "8ad8b280",
   "metadata": {
    "execution": {
     "iopub.execute_input": "2024-09-10T11:03:24.478022Z",
     "iopub.status.busy": "2024-09-10T11:03:24.477498Z",
     "iopub.status.idle": "2024-09-10T11:03:26.315341Z",
     "shell.execute_reply": "2024-09-10T11:03:26.314001Z"
    },
    "papermill": {
     "duration": 1.847788,
     "end_time": "2024-09-10T11:03:26.317904",
     "exception": false,
     "start_time": "2024-09-10T11:03:24.470116",
     "status": "completed"
    },
    "tags": []
   },
   "outputs": [
    {
     "data": {
      "text/html": [
       "<div>\n",
       "<style scoped>\n",
       "    .dataframe tbody tr th:only-of-type {\n",
       "        vertical-align: middle;\n",
       "    }\n",
       "\n",
       "    .dataframe tbody tr th {\n",
       "        vertical-align: top;\n",
       "    }\n",
       "\n",
       "    .dataframe thead th {\n",
       "        text-align: right;\n",
       "    }\n",
       "</style>\n",
       "<table border=\"1\" class=\"dataframe\">\n",
       "  <thead>\n",
       "    <tr style=\"text-align: right;\">\n",
       "      <th></th>\n",
       "      <th>mean radius</th>\n",
       "      <th>mean texture</th>\n",
       "      <th>mean perimeter</th>\n",
       "      <th>mean area</th>\n",
       "      <th>mean smoothness</th>\n",
       "      <th>mean compactness</th>\n",
       "      <th>mean concavity</th>\n",
       "      <th>mean concave points</th>\n",
       "      <th>mean symmetry</th>\n",
       "      <th>mean fractal dimension</th>\n",
       "      <th>...</th>\n",
       "      <th>worst texture</th>\n",
       "      <th>worst perimeter</th>\n",
       "      <th>worst area</th>\n",
       "      <th>worst smoothness</th>\n",
       "      <th>worst compactness</th>\n",
       "      <th>worst concavity</th>\n",
       "      <th>worst concave points</th>\n",
       "      <th>worst symmetry</th>\n",
       "      <th>worst fractal dimension</th>\n",
       "      <th>target</th>\n",
       "    </tr>\n",
       "  </thead>\n",
       "  <tbody>\n",
       "    <tr>\n",
       "      <th>0</th>\n",
       "      <td>17.99</td>\n",
       "      <td>10.38</td>\n",
       "      <td>122.80</td>\n",
       "      <td>1001.0</td>\n",
       "      <td>0.11840</td>\n",
       "      <td>0.27760</td>\n",
       "      <td>0.3001</td>\n",
       "      <td>0.14710</td>\n",
       "      <td>0.2419</td>\n",
       "      <td>0.07871</td>\n",
       "      <td>...</td>\n",
       "      <td>17.33</td>\n",
       "      <td>184.60</td>\n",
       "      <td>2019.0</td>\n",
       "      <td>0.1622</td>\n",
       "      <td>0.6656</td>\n",
       "      <td>0.7119</td>\n",
       "      <td>0.2654</td>\n",
       "      <td>0.4601</td>\n",
       "      <td>0.11890</td>\n",
       "      <td>0</td>\n",
       "    </tr>\n",
       "    <tr>\n",
       "      <th>1</th>\n",
       "      <td>20.57</td>\n",
       "      <td>17.77</td>\n",
       "      <td>132.90</td>\n",
       "      <td>1326.0</td>\n",
       "      <td>0.08474</td>\n",
       "      <td>0.07864</td>\n",
       "      <td>0.0869</td>\n",
       "      <td>0.07017</td>\n",
       "      <td>0.1812</td>\n",
       "      <td>0.05667</td>\n",
       "      <td>...</td>\n",
       "      <td>23.41</td>\n",
       "      <td>158.80</td>\n",
       "      <td>1956.0</td>\n",
       "      <td>0.1238</td>\n",
       "      <td>0.1866</td>\n",
       "      <td>0.2416</td>\n",
       "      <td>0.1860</td>\n",
       "      <td>0.2750</td>\n",
       "      <td>0.08902</td>\n",
       "      <td>0</td>\n",
       "    </tr>\n",
       "    <tr>\n",
       "      <th>2</th>\n",
       "      <td>19.69</td>\n",
       "      <td>21.25</td>\n",
       "      <td>130.00</td>\n",
       "      <td>1203.0</td>\n",
       "      <td>0.10960</td>\n",
       "      <td>0.15990</td>\n",
       "      <td>0.1974</td>\n",
       "      <td>0.12790</td>\n",
       "      <td>0.2069</td>\n",
       "      <td>0.05999</td>\n",
       "      <td>...</td>\n",
       "      <td>25.53</td>\n",
       "      <td>152.50</td>\n",
       "      <td>1709.0</td>\n",
       "      <td>0.1444</td>\n",
       "      <td>0.4245</td>\n",
       "      <td>0.4504</td>\n",
       "      <td>0.2430</td>\n",
       "      <td>0.3613</td>\n",
       "      <td>0.08758</td>\n",
       "      <td>0</td>\n",
       "    </tr>\n",
       "    <tr>\n",
       "      <th>3</th>\n",
       "      <td>11.42</td>\n",
       "      <td>20.38</td>\n",
       "      <td>77.58</td>\n",
       "      <td>386.1</td>\n",
       "      <td>0.14250</td>\n",
       "      <td>0.28390</td>\n",
       "      <td>0.2414</td>\n",
       "      <td>0.10520</td>\n",
       "      <td>0.2597</td>\n",
       "      <td>0.09744</td>\n",
       "      <td>...</td>\n",
       "      <td>26.50</td>\n",
       "      <td>98.87</td>\n",
       "      <td>567.7</td>\n",
       "      <td>0.2098</td>\n",
       "      <td>0.8663</td>\n",
       "      <td>0.6869</td>\n",
       "      <td>0.2575</td>\n",
       "      <td>0.6638</td>\n",
       "      <td>0.17300</td>\n",
       "      <td>0</td>\n",
       "    </tr>\n",
       "    <tr>\n",
       "      <th>4</th>\n",
       "      <td>20.29</td>\n",
       "      <td>14.34</td>\n",
       "      <td>135.10</td>\n",
       "      <td>1297.0</td>\n",
       "      <td>0.10030</td>\n",
       "      <td>0.13280</td>\n",
       "      <td>0.1980</td>\n",
       "      <td>0.10430</td>\n",
       "      <td>0.1809</td>\n",
       "      <td>0.05883</td>\n",
       "      <td>...</td>\n",
       "      <td>16.67</td>\n",
       "      <td>152.20</td>\n",
       "      <td>1575.0</td>\n",
       "      <td>0.1374</td>\n",
       "      <td>0.2050</td>\n",
       "      <td>0.4000</td>\n",
       "      <td>0.1625</td>\n",
       "      <td>0.2364</td>\n",
       "      <td>0.07678</td>\n",
       "      <td>0</td>\n",
       "    </tr>\n",
       "  </tbody>\n",
       "</table>\n",
       "<p>5 rows × 31 columns</p>\n",
       "</div>"
      ],
      "text/plain": [
       "   mean radius  mean texture  mean perimeter  mean area  mean smoothness  \\\n",
       "0        17.99         10.38          122.80     1001.0          0.11840   \n",
       "1        20.57         17.77          132.90     1326.0          0.08474   \n",
       "2        19.69         21.25          130.00     1203.0          0.10960   \n",
       "3        11.42         20.38           77.58      386.1          0.14250   \n",
       "4        20.29         14.34          135.10     1297.0          0.10030   \n",
       "\n",
       "   mean compactness  mean concavity  mean concave points  mean symmetry  \\\n",
       "0           0.27760          0.3001              0.14710         0.2419   \n",
       "1           0.07864          0.0869              0.07017         0.1812   \n",
       "2           0.15990          0.1974              0.12790         0.2069   \n",
       "3           0.28390          0.2414              0.10520         0.2597   \n",
       "4           0.13280          0.1980              0.10430         0.1809   \n",
       "\n",
       "   mean fractal dimension  ...  worst texture  worst perimeter  worst area  \\\n",
       "0                 0.07871  ...          17.33           184.60      2019.0   \n",
       "1                 0.05667  ...          23.41           158.80      1956.0   \n",
       "2                 0.05999  ...          25.53           152.50      1709.0   \n",
       "3                 0.09744  ...          26.50            98.87       567.7   \n",
       "4                 0.05883  ...          16.67           152.20      1575.0   \n",
       "\n",
       "   worst smoothness  worst compactness  worst concavity  worst concave points  \\\n",
       "0            0.1622             0.6656           0.7119                0.2654   \n",
       "1            0.1238             0.1866           0.2416                0.1860   \n",
       "2            0.1444             0.4245           0.4504                0.2430   \n",
       "3            0.2098             0.8663           0.6869                0.2575   \n",
       "4            0.1374             0.2050           0.4000                0.1625   \n",
       "\n",
       "   worst symmetry  worst fractal dimension  target  \n",
       "0          0.4601                  0.11890       0  \n",
       "1          0.2750                  0.08902       0  \n",
       "2          0.3613                  0.08758       0  \n",
       "3          0.6638                  0.17300       0  \n",
       "4          0.2364                  0.07678       0  \n",
       "\n",
       "[5 rows x 31 columns]"
      ]
     },
     "execution_count": 1,
     "metadata": {},
     "output_type": "execute_result"
    }
   ],
   "source": [
    "from sklearn.datasets import load_breast_cancer\n",
    "import pandas as pd\n",
    "\n",
    "# Load the Breast Cancer dataset\n",
    "cancer_data = load_breast_cancer()\n",
    "df = pd.DataFrame(data=cancer_data.data, columns=cancer_data.feature_names)\n",
    "\n",
    "# Add the target (0 = malignant, 1 = benign)\n",
    "df['target'] = cancer_data.target\n",
    "\n",
    "# Preview the dataset\n",
    "df.head()\n"
   ]
  },
  {
   "cell_type": "markdown",
   "id": "715c50b8",
   "metadata": {
    "papermill": {
     "duration": 0.006281,
     "end_time": "2024-09-10T11:03:26.332349",
     "exception": false,
     "start_time": "2024-09-10T11:03:26.326068",
     "status": "completed"
    },
    "tags": []
   },
   "source": [
    "In this dataset:\n",
    "\n",
    "* target = 0: Malignant (cancerous)\n",
    "* target = 1: Benign (non-cancerous)"
   ]
  },
  {
   "cell_type": "markdown",
   "id": "41220782",
   "metadata": {
    "papermill": {
     "duration": 0.006118,
     "end_time": "2024-09-10T11:03:26.344989",
     "exception": false,
     "start_time": "2024-09-10T11:03:26.338871",
     "status": "completed"
    },
    "tags": []
   },
   "source": [
    "2. Data Preprocessing\n",
    "\n",
    "We’ll split the dataset into training and test sets, as usual, to evaluate the model on unseen data.\n",
    "\n"
   ]
  },
  {
   "cell_type": "code",
   "execution_count": 2,
   "id": "6e293ace",
   "metadata": {
    "execution": {
     "iopub.execute_input": "2024-09-10T11:03:26.359620Z",
     "iopub.status.busy": "2024-09-10T11:03:26.359051Z",
     "iopub.status.idle": "2024-09-10T11:03:26.550016Z",
     "shell.execute_reply": "2024-09-10T11:03:26.548684Z"
    },
    "papermill": {
     "duration": 0.201611,
     "end_time": "2024-09-10T11:03:26.552831",
     "exception": false,
     "start_time": "2024-09-10T11:03:26.351220",
     "status": "completed"
    },
    "tags": []
   },
   "outputs": [],
   "source": [
    "from sklearn.model_selection import train_test_split\n",
    "\n",
    "# Features (X) and target (y)\n",
    "X = df.drop('target', axis=1)\n",
    "y = df['target']\n",
    "\n",
    "# Split the data into training (80%) and test sets (20%)\n",
    "X_train, X_test, y_train, y_test = train_test_split(X, y, test_size=0.2, random_state=42)"
   ]
  },
  {
   "cell_type": "markdown",
   "id": "00a3188a",
   "metadata": {
    "papermill": {
     "duration": 0.006073,
     "end_time": "2024-09-10T11:03:26.565342",
     "exception": false,
     "start_time": "2024-09-10T11:03:26.559269",
     "status": "completed"
    },
    "tags": []
   },
   "source": [
    "3. Train a Random Forest Classifier\n",
    "\n",
    "\n",
    "Let’s train a Random Forest classifier, which is an ensemble learning method that constructs multiple decision trees and merges them to get a more accurate and stable prediction.\n",
    "\n"
   ]
  },
  {
   "cell_type": "code",
   "execution_count": 3,
   "id": "77185b8b",
   "metadata": {
    "execution": {
     "iopub.execute_input": "2024-09-10T11:03:26.579649Z",
     "iopub.status.busy": "2024-09-10T11:03:26.579226Z",
     "iopub.status.idle": "2024-09-10T11:03:27.123528Z",
     "shell.execute_reply": "2024-09-10T11:03:27.122394Z"
    },
    "papermill": {
     "duration": 0.554548,
     "end_time": "2024-09-10T11:03:27.126071",
     "exception": false,
     "start_time": "2024-09-10T11:03:26.571523",
     "status": "completed"
    },
    "tags": []
   },
   "outputs": [
    {
     "data": {
      "text/html": [
       "<style>#sk-container-id-1 {color: black;background-color: white;}#sk-container-id-1 pre{padding: 0;}#sk-container-id-1 div.sk-toggleable {background-color: white;}#sk-container-id-1 label.sk-toggleable__label {cursor: pointer;display: block;width: 100%;margin-bottom: 0;padding: 0.3em;box-sizing: border-box;text-align: center;}#sk-container-id-1 label.sk-toggleable__label-arrow:before {content: \"▸\";float: left;margin-right: 0.25em;color: #696969;}#sk-container-id-1 label.sk-toggleable__label-arrow:hover:before {color: black;}#sk-container-id-1 div.sk-estimator:hover label.sk-toggleable__label-arrow:before {color: black;}#sk-container-id-1 div.sk-toggleable__content {max-height: 0;max-width: 0;overflow: hidden;text-align: left;background-color: #f0f8ff;}#sk-container-id-1 div.sk-toggleable__content pre {margin: 0.2em;color: black;border-radius: 0.25em;background-color: #f0f8ff;}#sk-container-id-1 input.sk-toggleable__control:checked~div.sk-toggleable__content {max-height: 200px;max-width: 100%;overflow: auto;}#sk-container-id-1 input.sk-toggleable__control:checked~label.sk-toggleable__label-arrow:before {content: \"▾\";}#sk-container-id-1 div.sk-estimator input.sk-toggleable__control:checked~label.sk-toggleable__label {background-color: #d4ebff;}#sk-container-id-1 div.sk-label input.sk-toggleable__control:checked~label.sk-toggleable__label {background-color: #d4ebff;}#sk-container-id-1 input.sk-hidden--visually {border: 0;clip: rect(1px 1px 1px 1px);clip: rect(1px, 1px, 1px, 1px);height: 1px;margin: -1px;overflow: hidden;padding: 0;position: absolute;width: 1px;}#sk-container-id-1 div.sk-estimator {font-family: monospace;background-color: #f0f8ff;border: 1px dotted black;border-radius: 0.25em;box-sizing: border-box;margin-bottom: 0.5em;}#sk-container-id-1 div.sk-estimator:hover {background-color: #d4ebff;}#sk-container-id-1 div.sk-parallel-item::after {content: \"\";width: 100%;border-bottom: 1px solid gray;flex-grow: 1;}#sk-container-id-1 div.sk-label:hover label.sk-toggleable__label {background-color: #d4ebff;}#sk-container-id-1 div.sk-serial::before {content: \"\";position: absolute;border-left: 1px solid gray;box-sizing: border-box;top: 0;bottom: 0;left: 50%;z-index: 0;}#sk-container-id-1 div.sk-serial {display: flex;flex-direction: column;align-items: center;background-color: white;padding-right: 0.2em;padding-left: 0.2em;position: relative;}#sk-container-id-1 div.sk-item {position: relative;z-index: 1;}#sk-container-id-1 div.sk-parallel {display: flex;align-items: stretch;justify-content: center;background-color: white;position: relative;}#sk-container-id-1 div.sk-item::before, #sk-container-id-1 div.sk-parallel-item::before {content: \"\";position: absolute;border-left: 1px solid gray;box-sizing: border-box;top: 0;bottom: 0;left: 50%;z-index: -1;}#sk-container-id-1 div.sk-parallel-item {display: flex;flex-direction: column;z-index: 1;position: relative;background-color: white;}#sk-container-id-1 div.sk-parallel-item:first-child::after {align-self: flex-end;width: 50%;}#sk-container-id-1 div.sk-parallel-item:last-child::after {align-self: flex-start;width: 50%;}#sk-container-id-1 div.sk-parallel-item:only-child::after {width: 0;}#sk-container-id-1 div.sk-dashed-wrapped {border: 1px dashed gray;margin: 0 0.4em 0.5em 0.4em;box-sizing: border-box;padding-bottom: 0.4em;background-color: white;}#sk-container-id-1 div.sk-label label {font-family: monospace;font-weight: bold;display: inline-block;line-height: 1.2em;}#sk-container-id-1 div.sk-label-container {text-align: center;}#sk-container-id-1 div.sk-container {/* jupyter's `normalize.less` sets `[hidden] { display: none; }` but bootstrap.min.css set `[hidden] { display: none !important; }` so we also need the `!important` here to be able to override the default hidden behavior on the sphinx rendered scikit-learn.org. See: https://github.com/scikit-learn/scikit-learn/issues/21755 */display: inline-block !important;position: relative;}#sk-container-id-1 div.sk-text-repr-fallback {display: none;}</style><div id=\"sk-container-id-1\" class=\"sk-top-container\"><div class=\"sk-text-repr-fallback\"><pre>RandomForestClassifier(random_state=42)</pre><b>In a Jupyter environment, please rerun this cell to show the HTML representation or trust the notebook. <br />On GitHub, the HTML representation is unable to render, please try loading this page with nbviewer.org.</b></div><div class=\"sk-container\" hidden><div class=\"sk-item\"><div class=\"sk-estimator sk-toggleable\"><input class=\"sk-toggleable__control sk-hidden--visually\" id=\"sk-estimator-id-1\" type=\"checkbox\" checked><label for=\"sk-estimator-id-1\" class=\"sk-toggleable__label sk-toggleable__label-arrow\">RandomForestClassifier</label><div class=\"sk-toggleable__content\"><pre>RandomForestClassifier(random_state=42)</pre></div></div></div></div></div>"
      ],
      "text/plain": [
       "RandomForestClassifier(random_state=42)"
      ]
     },
     "execution_count": 3,
     "metadata": {},
     "output_type": "execute_result"
    }
   ],
   "source": [
    "from sklearn.ensemble import RandomForestClassifier\n",
    "\n",
    "# Create a Random Forest classifier\n",
    "model = RandomForestClassifier(random_state=42)\n",
    "\n",
    "# Train the model on the training data\n",
    "model.fit(X_train, y_train)\n"
   ]
  },
  {
   "cell_type": "markdown",
   "id": "b8ac353e",
   "metadata": {
    "papermill": {
     "duration": 0.006347,
     "end_time": "2024-09-10T11:03:27.139007",
     "exception": false,
     "start_time": "2024-09-10T11:03:27.132660",
     "status": "completed"
    },
    "tags": []
   },
   "source": [
    "4. Model Evaluation Metrics\n",
    "\n",
    "![](https://www.kdnuggets.com/wp-content/uploads/anello_machine_learning_evaluation_metrics_theory_overview_6.png)\n",
    "\n",
    "Step 1: Accuracy\n",
    "    \n",
    "Let’s start by calculating the accuracy of the model on the test data.\n"
   ]
  },
  {
   "cell_type": "markdown",
   "id": "148b6db7",
   "metadata": {
    "papermill": {
     "duration": 0.00624,
     "end_time": "2024-09-10T11:03:27.151736",
     "exception": false,
     "start_time": "2024-09-10T11:03:27.145496",
     "status": "completed"
    },
    "tags": []
   },
   "source": [
    "What is Accuracy?\n",
    "\n",
    "Accuracy is one of the most commonly used metrics for classification tasks. It measures the proportion of correct predictions made by the model.\n",
    "\n",
    "Formula: \n",
    "\n",
    "![](https://cdn.prod.website-files.com/660ef16a9e0687d9cc27474a/662c426738658d748af1b1fd_644af4d67e9765a3455cf298_classification_guide_apc02.png)"
   ]
  },
  {
   "cell_type": "code",
   "execution_count": 4,
   "id": "f66c094e",
   "metadata": {
    "execution": {
     "iopub.execute_input": "2024-09-10T11:03:27.166662Z",
     "iopub.status.busy": "2024-09-10T11:03:27.166220Z",
     "iopub.status.idle": "2024-09-10T11:03:27.185470Z",
     "shell.execute_reply": "2024-09-10T11:03:27.184101Z"
    },
    "papermill": {
     "duration": 0.029759,
     "end_time": "2024-09-10T11:03:27.187948",
     "exception": false,
     "start_time": "2024-09-10T11:03:27.158189",
     "status": "completed"
    },
    "tags": []
   },
   "outputs": [
    {
     "name": "stdout",
     "output_type": "stream",
     "text": [
      "Model Accuracy: 96.49%\n"
     ]
    }
   ],
   "source": [
    "from sklearn.metrics import accuracy_score\n",
    "\n",
    "# Make predictions on the test set\n",
    "y_pred = model.predict(X_test)\n",
    "\n",
    "# Calculate accuracy\n",
    "accuracy = accuracy_score(y_test, y_pred)\n",
    "print(f\"Model Accuracy: {accuracy * 100:.2f}%\")\n"
   ]
  },
  {
   "cell_type": "markdown",
   "id": "dbb1359f",
   "metadata": {
    "papermill": {
     "duration": 0.006283,
     "end_time": "2024-09-10T11:03:27.200847",
     "exception": false,
     "start_time": "2024-09-10T11:03:27.194564",
     "status": "completed"
    },
    "tags": []
   },
   "source": [
    "Step 2: Precision, Recall, and F1-Score\n",
    "\n",
    "What are Precision and Recall?\n",
    "\n",
    "* Precision: The proportion of true positive predictions out of all positive predictions made by the model. High precision means that when the model predicts positive, it’s often correct.\n",
    "\n",
    "![](https://cdn.prod.website-files.com/660ef16a9e0687d9cc27474a/662c426738658d748af1b204_644af6c4d573412369556f6e_classification_guide_apc10.png)\n",
    "\n",
    "* Recall: The proportion of true positives that the model correctly identified out of all actual positive cases.\n",
    "\n",
    "![](https://cdn.prod.website-files.com/660ef16a9e0687d9cc27474a/662c426738658d748af1b1ef_644af7a5c21ca563bd25204a_classification_guide_apc15.png)\n",
    "\n",
    "* F1-Score: The harmonic mean of precision and recall. It balances the two metrics and is useful when you need to balance precision and recall.\n",
    "\n",
    "![](https://cdn.prod.website-files.com/5d7b77b063a9066d83e1209c/639c3d2a22f93657640ef19f_f1-score-eqn.webp)\n"
   ]
  },
  {
   "cell_type": "markdown",
   "id": "c1299b1d",
   "metadata": {
    "papermill": {
     "duration": 0.006152,
     "end_time": "2024-09-10T11:03:27.213430",
     "exception": false,
     "start_time": "2024-09-10T11:03:27.207278",
     "status": "completed"
    },
    "tags": []
   },
   "source": []
  },
  {
   "cell_type": "code",
   "execution_count": 5,
   "id": "0097a15d",
   "metadata": {
    "execution": {
     "iopub.execute_input": "2024-09-10T11:03:27.228625Z",
     "iopub.status.busy": "2024-09-10T11:03:27.227641Z",
     "iopub.status.idle": "2024-09-10T11:03:27.244469Z",
     "shell.execute_reply": "2024-09-10T11:03:27.243145Z"
    },
    "papermill": {
     "duration": 0.027156,
     "end_time": "2024-09-10T11:03:27.246992",
     "exception": false,
     "start_time": "2024-09-10T11:03:27.219836",
     "status": "completed"
    },
    "tags": []
   },
   "outputs": [
    {
     "name": "stdout",
     "output_type": "stream",
     "text": [
      "Precision: 0.96\n",
      "Recall: 0.99\n",
      "F1-Score: 0.97\n"
     ]
    }
   ],
   "source": [
    "from sklearn.metrics import precision_score, recall_score, f1_score\n",
    "\n",
    "# Calculate precision, recall, and F1-score\n",
    "precision = precision_score(y_test, y_pred)\n",
    "recall = recall_score(y_test, y_pred)\n",
    "f1 = f1_score(y_test, y_pred)\n",
    "\n",
    "print(f\"Precision: {precision:.2f}\")\n",
    "print(f\"Recall: {recall:.2f}\")\n",
    "print(f\"F1-Score: {f1:.2f}\")\n"
   ]
  },
  {
   "cell_type": "markdown",
   "id": "13988494",
   "metadata": {
    "papermill": {
     "duration": 0.00644,
     "end_time": "2024-09-10T11:03:27.260140",
     "exception": false,
     "start_time": "2024-09-10T11:03:27.253700",
     "status": "completed"
    },
    "tags": []
   },
   "source": [
    "Step 3: Confusion Matrix\n",
    "\n",
    "\n",
    "A confusion matrix gives us a more detailed view of how well the model performs in each category (malignant vs benign).\n",
    "\n"
   ]
  },
  {
   "cell_type": "code",
   "execution_count": 6,
   "id": "6d14ff08",
   "metadata": {
    "execution": {
     "iopub.execute_input": "2024-09-10T11:03:27.276051Z",
     "iopub.status.busy": "2024-09-10T11:03:27.274824Z",
     "iopub.status.idle": "2024-09-10T11:03:28.100365Z",
     "shell.execute_reply": "2024-09-10T11:03:28.099229Z"
    },
    "papermill": {
     "duration": 0.835885,
     "end_time": "2024-09-10T11:03:28.102638",
     "exception": false,
     "start_time": "2024-09-10T11:03:27.266753",
     "status": "completed"
    },
    "tags": []
   },
   "outputs": [
    {
     "data": {
      "image/png": "[encoded data removed]",
      "text/plain": [
       "<Figure size 800x600 with 2 Axes>"
      ]
     },
     "metadata": {},
     "output_type": "display_data"
    }
   ],
   "source": [
    "from sklearn.metrics import confusion_matrix\n",
    "import seaborn as sns\n",
    "import matplotlib.pyplot as plt\n",
    "\n",
    "# Compute the confusion matrix\n",
    "cm = confusion_matrix(y_test, y_pred)\n",
    "\n",
    "# Visualize the confusion matrix\n",
    "plt.figure(figsize=(8, 6))\n",
    "sns.heatmap(cm, annot=True, fmt='d', cmap='Blues', xticklabels=cancer_data.target_names, yticklabels=cancer_data.target_names)\n",
    "plt.xlabel('Predicted')\n",
    "plt.ylabel('Actual')\n",
    "plt.title('Confusion Matrix')\n",
    "plt.show()\n"
   ]
  },
  {
   "cell_type": "markdown",
   "id": "0d0c01e8",
   "metadata": {
    "papermill": {
     "duration": 0.00695,
     "end_time": "2024-09-10T11:03:28.116889",
     "exception": false,
     "start_time": "2024-09-10T11:03:28.109939",
     "status": "completed"
    },
    "tags": []
   },
   "source": [
    "7. Summary of Session 3\n",
    "\n",
    "In this session, we covered:\n",
    "\n",
    "Model Evaluation Metrics: We explored accuracy, precision, recall, F1-score, and confusion matrix.\n"
   ]
  }
 ],
 "metadata": {
  "kaggle": {
   "accelerator": "none",
   "dataSources": [],
   "dockerImageVersionId": 30761,
   "isGpuEnabled": false,
   "isInternetEnabled": true,
   "language": "python",
   "sourceType": "notebook"
  },
  "kernelspec": {
   "display_name": "Python 3",
   "language": "python",
   "name": "python3"
  },
  "language_info": {
   "codemirror_mode": {
    "name": "ipython",
    "version": 3
   },
   "file_extension": ".py",
   "mimetype": "text/x-python",
   "name": "python",
   "nbconvert_exporter": "python",
   "pygments_lexer": "ipython3",
   "version": "3.10.14"
  },
  "papermill": {
   "default_parameters": {},
   "duration": 7.363425,
   "end_time": "2024-09-10T11:03:28.846479",
   "environment_variables": {},
   "exception": null,
   "input_path": "__notebook__.ipynb",
   "output_path": "__notebook__.ipynb",
   "parameters": {},
   "start_time": "2024-09-10T11:03:21.483054",
   "version": "2.6.0"
  }
 },
 "nbformat": 4,
 "nbformat_minor": 5
}
