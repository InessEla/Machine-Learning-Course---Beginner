{
 "cells": [
  {
   "cell_type": "markdown",
   "id": "9e5ab7e6",
   "metadata": {
    "papermill": {
     "duration": 0.007022,
     "end_time": "2024-09-10T11:57:48.483152",
     "exception": false,
     "start_time": "2024-09-10T11:57:48.476130",
     "status": "completed"
    },
    "tags": []
   },
   "source": [
    "# **Introduction to Regression in Machine Learning**"
   ]
  },
  {
   "cell_type": "markdown",
   "id": "d79c18fc",
   "metadata": {
    "papermill": {
     "duration": 0.007819,
     "end_time": "2024-09-10T11:57:48.497330",
     "exception": false,
     "start_time": "2024-09-10T11:57:48.489511",
     "status": "completed"
    },
    "tags": []
   },
   "source": [
    "**> Here is a quick reminder to what we have seen in previous sessions :**"
   ]
  },
  {
   "cell_type": "markdown",
   "id": "0c66f0a4",
   "metadata": {
    "papermill": {
     "duration": 0.005987,
     "end_time": "2024-09-10T11:57:48.511155",
     "exception": false,
     "start_time": "2024-09-10T11:57:48.505168",
     "status": "completed"
    },
    "tags": []
   },
   "source": [
    "![](https://miro.medium.com/v2/resize:fit:828/format:webp/1*hQseRDVLXt2piN_1dfz5pA.jpeg)"
   ]
  },
  {
   "cell_type": "markdown",
   "id": "f826a56c",
   "metadata": {
    "papermill": {
     "duration": 0.005874,
     "end_time": "2024-09-10T11:57:48.523602",
     "exception": false,
     "start_time": "2024-09-10T11:57:48.517728",
     "status": "completed"
    },
    "tags": []
   },
   "source": [
    "**Regression** is a type of **supervised learning** where the goal is to **predict** **a continuous value**, such as predicting the price of a house or the weight of an object based on its features."
   ]
  },
  {
   "cell_type": "markdown",
   "id": "47f3b7b1",
   "metadata": {
    "papermill": {
     "duration": 0.005935,
     "end_time": "2024-09-10T11:57:48.536017",
     "exception": false,
     "start_time": "2024-09-10T11:57:48.530082",
     "status": "completed"
    },
    "tags": []
   },
   "source": [
    "# **What is Regression?**"
   ]
  },
  {
   "cell_type": "markdown",
   "id": "97dabc65",
   "metadata": {
    "papermill": {
     "duration": 0.00594,
     "end_time": "2024-09-10T11:57:48.548562",
     "exception": false,
     "start_time": "2024-09-10T11:57:48.542622",
     "status": "completed"
    },
    "tags": []
   },
   "source": [
    "The primary objective of **regression** is the study of\n",
    "**dependence relationships ( correlation )** between two **quantitative** variables X and Y, measured on the same individuals.\n",
    "\n",
    "**Examples:**\n",
    "\n",
    "> Different phenomena measured in the same individuals:\n",
    "> weight and height​.\n",
    "\n",
    "> Successive measurements of the same phenomenon:\n",
    "> blood pressure in the morning and evening.\n",
    "\n",
    "🡪 Are they independent? in a linear relationship or not?\n",
    "\n",
    "In this notebook, we will explore the following regression algorithms:\n",
    "\n",
    "1. Linear Regression\n",
    "2. Decision Tree Regressor\n",
    "3. Support Vector Regressor (SVR)"
   ]
  },
  {
   "cell_type": "markdown",
   "id": "2df0883a",
   "metadata": {
    "papermill": {
     "duration": 0.006304,
     "end_time": "2024-09-10T11:57:48.561793",
     "exception": false,
     "start_time": "2024-09-10T11:57:48.555489",
     "status": "completed"
    },
    "tags": []
   },
   "source": [
    "# **Dataset Overview**"
   ]
  },
  {
   "cell_type": "markdown",
   "id": "26cacb9b",
   "metadata": {
    "papermill": {
     "duration": 0.005861,
     "end_time": "2024-09-10T11:57:48.574037",
     "exception": false,
     "start_time": "2024-09-10T11:57:48.568176",
     "status": "completed"
    },
    "tags": []
   },
   "source": [
    "For this exercise, we will use **the California Housing dataset**, which contains data on housing prices and several related features.\n",
    "\n",
    "Let's start by loading the dataset and splitting it into training and testing sets."
   ]
  },
  {
   "cell_type": "code",
   "execution_count": 1,
   "id": "328ba17a",
   "metadata": {
    "execution": {
     "iopub.execute_input": "2024-09-10T11:57:48.588367Z",
     "iopub.status.busy": "2024-09-10T11:57:48.587847Z",
     "iopub.status.idle": "2024-09-10T11:57:54.406462Z",
     "shell.execute_reply": "2024-09-10T11:57:54.405056Z"
    },
    "papermill": {
     "duration": 5.828806,
     "end_time": "2024-09-10T11:57:54.409101",
     "exception": false,
     "start_time": "2024-09-10T11:57:48.580295",
     "status": "completed"
    },
    "tags": []
   },
   "outputs": [
    {
     "data": {
      "text/html": [
       "<div>\n",
       "<style scoped>\n",
       "    .dataframe tbody tr th:only-of-type {\n",
       "        vertical-align: middle;\n",
       "    }\n",
       "\n",
       "    .dataframe tbody tr th {\n",
       "        vertical-align: top;\n",
       "    }\n",
       "\n",
       "    .dataframe thead th {\n",
       "        text-align: right;\n",
       "    }\n",
       "</style>\n",
       "<table border=\"1\" class=\"dataframe\">\n",
       "  <thead>\n",
       "    <tr style=\"text-align: right;\">\n",
       "      <th></th>\n",
       "      <th>MedInc</th>\n",
       "      <th>HouseAge</th>\n",
       "      <th>AveRooms</th>\n",
       "      <th>AveBedrms</th>\n",
       "      <th>Population</th>\n",
       "      <th>AveOccup</th>\n",
       "      <th>Latitude</th>\n",
       "      <th>Longitude</th>\n",
       "    </tr>\n",
       "  </thead>\n",
       "  <tbody>\n",
       "    <tr>\n",
       "      <th>0</th>\n",
       "      <td>8.3252</td>\n",
       "      <td>41.0</td>\n",
       "      <td>6.984127</td>\n",
       "      <td>1.023810</td>\n",
       "      <td>322.0</td>\n",
       "      <td>2.555556</td>\n",
       "      <td>37.88</td>\n",
       "      <td>-122.23</td>\n",
       "    </tr>\n",
       "    <tr>\n",
       "      <th>1</th>\n",
       "      <td>8.3014</td>\n",
       "      <td>21.0</td>\n",
       "      <td>6.238137</td>\n",
       "      <td>0.971880</td>\n",
       "      <td>2401.0</td>\n",
       "      <td>2.109842</td>\n",
       "      <td>37.86</td>\n",
       "      <td>-122.22</td>\n",
       "    </tr>\n",
       "    <tr>\n",
       "      <th>2</th>\n",
       "      <td>7.2574</td>\n",
       "      <td>52.0</td>\n",
       "      <td>8.288136</td>\n",
       "      <td>1.073446</td>\n",
       "      <td>496.0</td>\n",
       "      <td>2.802260</td>\n",
       "      <td>37.85</td>\n",
       "      <td>-122.24</td>\n",
       "    </tr>\n",
       "    <tr>\n",
       "      <th>3</th>\n",
       "      <td>5.6431</td>\n",
       "      <td>52.0</td>\n",
       "      <td>5.817352</td>\n",
       "      <td>1.073059</td>\n",
       "      <td>558.0</td>\n",
       "      <td>2.547945</td>\n",
       "      <td>37.85</td>\n",
       "      <td>-122.25</td>\n",
       "    </tr>\n",
       "    <tr>\n",
       "      <th>4</th>\n",
       "      <td>3.8462</td>\n",
       "      <td>52.0</td>\n",
       "      <td>6.281853</td>\n",
       "      <td>1.081081</td>\n",
       "      <td>565.0</td>\n",
       "      <td>2.181467</td>\n",
       "      <td>37.85</td>\n",
       "      <td>-122.25</td>\n",
       "    </tr>\n",
       "  </tbody>\n",
       "</table>\n",
       "</div>"
      ],
      "text/plain": [
       "   MedInc  HouseAge  AveRooms  AveBedrms  Population  AveOccup  Latitude  \\\n",
       "0  8.3252      41.0  6.984127   1.023810       322.0  2.555556     37.88   \n",
       "1  8.3014      21.0  6.238137   0.971880      2401.0  2.109842     37.86   \n",
       "2  7.2574      52.0  8.288136   1.073446       496.0  2.802260     37.85   \n",
       "3  5.6431      52.0  5.817352   1.073059       558.0  2.547945     37.85   \n",
       "4  3.8462      52.0  6.281853   1.081081       565.0  2.181467     37.85   \n",
       "\n",
       "   Longitude  \n",
       "0    -122.23  \n",
       "1    -122.22  \n",
       "2    -122.24  \n",
       "3    -122.25  \n",
       "4    -122.25  "
      ]
     },
     "execution_count": 1,
     "metadata": {},
     "output_type": "execute_result"
    }
   ],
   "source": [
    "# Import necessary libraries\n",
    "import pandas as pd\n",
    "from sklearn.datasets import fetch_california_housing\n",
    "from sklearn.model_selection import train_test_split\n",
    "from sklearn.preprocessing import StandardScaler\n",
    "from sklearn.metrics import mean_squared_error\n",
    "import seaborn as sns\n",
    "import matplotlib.pyplot as plt\n",
    "\n",
    "# Load the California Housing dataset\n",
    "housing = fetch_california_housing()\n",
    "X = pd.DataFrame(housing.data, columns=housing.feature_names)\n",
    "y = pd.Series(housing.target)\n",
    "\n",
    "# Split the data into training and testing sets\n",
    "X_train, X_test, y_train, y_test = train_test_split(X, y, test_size=0.2, random_state=42)\n",
    "\n",
    "# Display the first few rows of the dataset\n",
    "X.head()\n"
   ]
  },
  {
   "cell_type": "markdown",
   "id": "482535f9",
   "metadata": {
    "papermill": {
     "duration": 0.006753,
     "end_time": "2024-09-10T11:57:54.422767",
     "exception": false,
     "start_time": "2024-09-10T11:57:54.416014",
     "status": "completed"
    },
    "tags": []
   },
   "source": [
    "# **Data Standardization**"
   ]
  },
  {
   "cell_type": "markdown",
   "id": "9fa941a6",
   "metadata": {
    "papermill": {
     "duration": 0.006086,
     "end_time": "2024-09-10T11:57:54.435425",
     "exception": false,
     "start_time": "2024-09-10T11:57:54.429339",
     "status": "completed"
    },
    "tags": []
   },
   "source": [
    "Just like in classification, some regression algorithms perform better when the features are standardized, especially **KNN** and **SVR**."
   ]
  },
  {
   "cell_type": "code",
   "execution_count": 2,
   "id": "6e00449f",
   "metadata": {
    "execution": {
     "iopub.execute_input": "2024-09-10T11:57:54.450249Z",
     "iopub.status.busy": "2024-09-10T11:57:54.449645Z",
     "iopub.status.idle": "2024-09-10T11:57:54.463816Z",
     "shell.execute_reply": "2024-09-10T11:57:54.462542Z"
    },
    "papermill": {
     "duration": 0.025181,
     "end_time": "2024-09-10T11:57:54.466986",
     "exception": false,
     "start_time": "2024-09-10T11:57:54.441805",
     "status": "completed"
    },
    "tags": []
   },
   "outputs": [],
   "source": [
    "# Standardize the features\n",
    "scaler = StandardScaler()\n",
    "X_train_scaled = scaler.fit_transform(X_train)\n",
    "X_test_scaled = scaler.transform(X_test)"
   ]
  },
  {
   "cell_type": "markdown",
   "id": "160428b9",
   "metadata": {
    "papermill": {
     "duration": 0.006792,
     "end_time": "2024-09-10T11:57:54.480818",
     "exception": false,
     "start_time": "2024-09-10T11:57:54.474026",
     "status": "completed"
    },
    "tags": []
   },
   "source": [
    "# **1. Linear Regression**"
   ]
  },
  {
   "cell_type": "markdown",
   "id": "f344e395",
   "metadata": {
    "papermill": {
     "duration": 0.00685,
     "end_time": "2024-09-10T11:57:54.494484",
     "exception": false,
     "start_time": "2024-09-10T11:57:54.487634",
     "status": "completed"
    },
    "tags": []
   },
   "source": [
    "**Linear Regression** is one of the **simplest** and most widely used algorithms in machine learning. It models the relationship between the dependent variable and one or more independent variables by fitting a straight line.\n",
    "\n",
    "![](https://substackcdn.com/image/fetch/f_auto,q_auto:good,fl_progressive:steep/https%3A%2F%2Fsubstack-post-media.s3.amazonaws.com%2Fpublic%2Fimages%2F62413fa0-3d80-411c-af93-ebd0f096a26a_1042x644.png)"
   ]
  },
  {
   "cell_type": "code",
   "execution_count": 3,
   "id": "d3c44845",
   "metadata": {
    "execution": {
     "iopub.execute_input": "2024-09-10T11:57:54.510978Z",
     "iopub.status.busy": "2024-09-10T11:57:54.510506Z",
     "iopub.status.idle": "2024-09-10T11:57:54.679033Z",
     "shell.execute_reply": "2024-09-10T11:57:54.677606Z"
    },
    "papermill": {
     "duration": 0.180668,
     "end_time": "2024-09-10T11:57:54.682205",
     "exception": false,
     "start_time": "2024-09-10T11:57:54.501537",
     "status": "completed"
    },
    "tags": []
   },
   "outputs": [
    {
     "name": "stdout",
     "output_type": "stream",
     "text": [
      "Linear Regression MSE: 0.56\n"
     ]
    }
   ],
   "source": [
    "# Import Linear Regression\n",
    "from sklearn.linear_model import LinearRegression\n",
    "\n",
    "# Initialize the model\n",
    "lr_model = LinearRegression()\n",
    "\n",
    "# Train the model\n",
    "lr_model.fit(X_train, y_train)\n",
    "\n",
    "# Make predictions\n",
    "y_pred_lr = lr_model.predict(X_test)\n",
    "\n",
    "# Calculate Mean Squared Error (MSE)\n",
    "mse_lr = mean_squared_error(y_test, y_pred_lr)\n",
    "print(f\"Linear Regression MSE: {mse_lr:.2f}\")"
   ]
  },
  {
   "cell_type": "markdown",
   "id": "028c857b",
   "metadata": {
    "papermill": {
     "duration": 0.018884,
     "end_time": "2024-09-10T11:57:54.722044",
     "exception": false,
     "start_time": "2024-09-10T11:57:54.703160",
     "status": "completed"
    },
    "tags": []
   },
   "source": [
    "# **Linear Regression Summary**\n",
    "\n",
    "Linear Regression is easy to interpret and works well for datasets where the relationship between the features and the target is linear. However, it may underperform for more complex relationships."
   ]
  },
  {
   "cell_type": "markdown",
   "id": "0a89f0a9",
   "metadata": {
    "papermill": {
     "duration": 0.017981,
     "end_time": "2024-09-10T11:57:54.759720",
     "exception": false,
     "start_time": "2024-09-10T11:57:54.741739",
     "status": "completed"
    },
    "tags": []
   },
   "source": [
    "# **2. Decision Tree Regressor**"
   ]
  },
  {
   "cell_type": "markdown",
   "id": "e07208ce",
   "metadata": {
    "papermill": {
     "duration": 0.009456,
     "end_time": "2024-09-10T11:57:54.788661",
     "exception": false,
     "start_time": "2024-09-10T11:57:54.779205",
     "status": "completed"
    },
    "tags": []
   },
   "source": [
    "**Decision Tree models** can be applied to all data containing numerical and categorical features. Decision trees are good at capturing the non-linear interaction between the features and the target variable. Decision trees somewhat match human-level thinking, so understanding the data is very intuitive."
   ]
  },
  {
   "cell_type": "markdown",
   "id": "c701b72a",
   "metadata": {
    "papermill": {
     "duration": 0.00664,
     "end_time": "2024-09-10T11:57:54.802293",
     "exception": false,
     "start_time": "2024-09-10T11:57:54.795653",
     "status": "completed"
    },
    "tags": []
   },
   "source": [
    "![](https://editor.analyticsvidhya.com/uploads/52036dt.jpg)"
   ]
  },
  {
   "cell_type": "markdown",
   "id": "6b6d6bd7",
   "metadata": {
    "papermill": {
     "duration": 0.006286,
     "end_time": "2024-09-10T11:57:54.815036",
     "exception": false,
     "start_time": "2024-09-10T11:57:54.808750",
     "status": "completed"
    },
    "tags": []
   },
   "source": [
    "> For example, if we classify how many hours a kid plays in particular weather, the decision tree looks somewhat like this above in the image.\n",
    "\n",
    "**=> So, in short, a decision tree is a tree where each node represents a feature, each branch represents a decision, and each leaf represents an outcome(numerical value regression).**"
   ]
  },
  {
   "cell_type": "code",
   "execution_count": 4,
   "id": "bea4258b",
   "metadata": {
    "execution": {
     "iopub.execute_input": "2024-09-10T11:57:54.830459Z",
     "iopub.status.busy": "2024-09-10T11:57:54.829314Z",
     "iopub.status.idle": "2024-09-10T11:57:55.132248Z",
     "shell.execute_reply": "2024-09-10T11:57:55.131064Z"
    },
    "papermill": {
     "duration": 0.313065,
     "end_time": "2024-09-10T11:57:55.134601",
     "exception": false,
     "start_time": "2024-09-10T11:57:54.821536",
     "status": "completed"
    },
    "tags": []
   },
   "outputs": [
    {
     "name": "stdout",
     "output_type": "stream",
     "text": [
      "Decision Tree Regressor MSE: 0.50\n"
     ]
    }
   ],
   "source": [
    "# Import Decision Tree Regressor\n",
    "from sklearn.tree import DecisionTreeRegressor\n",
    "\n",
    "# Initialize the model\n",
    "dt_regressor = DecisionTreeRegressor()\n",
    "\n",
    "# Train the model\n",
    "dt_regressor.fit(X_train, y_train)\n",
    "\n",
    "# Make predictions\n",
    "y_pred_dt = dt_regressor.predict(X_test)\n",
    "\n",
    "# Calculate Mean Squared Error (MSE)\n",
    "mse_dt = mean_squared_error(y_test, y_pred_dt)\n",
    "print(f\"Decision Tree Regressor MSE: {mse_dt:.2f}\")"
   ]
  },
  {
   "cell_type": "markdown",
   "id": "b815931c",
   "metadata": {
    "papermill": {
     "duration": 0.006195,
     "end_time": "2024-09-10T11:57:55.147538",
     "exception": false,
     "start_time": "2024-09-10T11:57:55.141343",
     "status": "completed"
    },
    "tags": []
   },
   "source": [
    "# **Decision Tree Regressor Summary**\n",
    "Decision Trees are flexible and can capture complex relationships in the data. However, they can easily overfit, so it's important to tune hyperparameters like max_depth to control this."
   ]
  },
  {
   "cell_type": "markdown",
   "id": "4800fd4a",
   "metadata": {
    "papermill": {
     "duration": 0.006093,
     "end_time": "2024-09-10T11:57:55.159956",
     "exception": false,
     "start_time": "2024-09-10T11:57:55.153863",
     "status": "completed"
    },
    "tags": []
   },
   "source": [
    "# **3. Support Vector Regressor (SVR)**"
   ]
  },
  {
   "cell_type": "markdown",
   "id": "cd652237",
   "metadata": {
    "papermill": {
     "duration": 0.006123,
     "end_time": "2024-09-10T11:57:55.172490",
     "exception": false,
     "start_time": "2024-09-10T11:57:55.166367",
     "status": "completed"
    },
    "tags": []
   },
   "source": [
    "**Support Vector Regressor (SVR)** is an extension of Support Vector Machines (SVM) for regression tasks. SVR tries to find a hyperplane that best fits the data while ignoring small errors."
   ]
  },
  {
   "cell_type": "markdown",
   "id": "5e26251e",
   "metadata": {
    "papermill": {
     "duration": 0.006098,
     "end_time": "2024-09-10T11:57:55.184849",
     "exception": false,
     "start_time": "2024-09-10T11:57:55.178751",
     "status": "completed"
    },
    "tags": []
   },
   "source": [
    "![](https://editor.analyticsvidhya.com/uploads/14173svr.png)"
   ]
  },
  {
   "cell_type": "markdown",
   "id": "85f8eebe",
   "metadata": {
    "papermill": {
     "duration": 0.006182,
     "end_time": "2024-09-10T11:57:55.197463",
     "exception": false,
     "start_time": "2024-09-10T11:57:55.191281",
     "status": "completed"
    },
    "tags": []
   },
   "source": [
    "> In the figure above, the Blue line is the hyperplane; the Red Line is the Boundary Line.\n",
    "\n",
    "All the data points are within the boundary line(Red Line). SVR’s main objective is to consider only those points within the boundary line."
   ]
  },
  {
   "cell_type": "code",
   "execution_count": 5,
   "id": "4c913efb",
   "metadata": {
    "execution": {
     "iopub.execute_input": "2024-09-10T11:57:55.212215Z",
     "iopub.status.busy": "2024-09-10T11:57:55.211781Z",
     "iopub.status.idle": "2024-09-10T11:58:08.745720Z",
     "shell.execute_reply": "2024-09-10T11:58:08.744394Z"
    },
    "papermill": {
     "duration": 13.544475,
     "end_time": "2024-09-10T11:58:08.748322",
     "exception": false,
     "start_time": "2024-09-10T11:57:55.203847",
     "status": "completed"
    },
    "tags": []
   },
   "outputs": [
    {
     "name": "stdout",
     "output_type": "stream",
     "text": [
      "SVR MSE: 0.36\n"
     ]
    }
   ],
   "source": [
    "# Import Support Vector Regressor\n",
    "from sklearn.svm import SVR\n",
    "\n",
    "# Initialize the model\n",
    "svr_model = SVR()\n",
    "\n",
    "# Train the model\n",
    "svr_model.fit(X_train_scaled, y_train)\n",
    "\n",
    "# Make predictions\n",
    "y_pred_svr = svr_model.predict(X_test_scaled)\n",
    "\n",
    "# Calculate Mean Squared Error (MSE)\n",
    "mse_svr = mean_squared_error(y_test, y_pred_svr)\n",
    "print(f\"SVR MSE: {mse_svr:.2f}\")"
   ]
  },
  {
   "cell_type": "markdown",
   "id": "dc2ff4f0",
   "metadata": {
    "papermill": {
     "duration": 0.006473,
     "end_time": "2024-09-10T11:58:08.761777",
     "exception": false,
     "start_time": "2024-09-10T11:58:08.755304",
     "status": "completed"
    },
    "tags": []
   },
   "source": [
    "# **SVR Summary**\n",
    "**SVR** is effective for small to medium-sized datasets and can capture non-linear relationships. It can be computationally intensive for large datasets."
   ]
  },
  {
   "cell_type": "markdown",
   "id": "7aae5a06",
   "metadata": {
    "papermill": {
     "duration": 0.006893,
     "end_time": "2024-09-10T11:58:08.775356",
     "exception": false,
     "start_time": "2024-09-10T11:58:08.768463",
     "status": "completed"
    },
    "tags": []
   },
   "source": [
    "# **Comparison of Models**"
   ]
  },
  {
   "cell_type": "markdown",
   "id": "ac6b1f12",
   "metadata": {
    "papermill": {
     "duration": 0.006473,
     "end_time": "2024-09-10T11:58:08.788723",
     "exception": false,
     "start_time": "2024-09-10T11:58:08.782250",
     "status": "completed"
    },
    "tags": []
   },
   "source": [
    "Let's compare the performance of all the regression models using **Mean Squared Error (MSE)**. A lower MSE indicates a better model."
   ]
  },
  {
   "cell_type": "code",
   "execution_count": 6,
   "id": "c63b1877",
   "metadata": {
    "execution": {
     "iopub.execute_input": "2024-09-10T11:58:08.804125Z",
     "iopub.status.busy": "2024-09-10T11:58:08.803256Z",
     "iopub.status.idle": "2024-09-10T11:58:09.031588Z",
     "shell.execute_reply": "2024-09-10T11:58:09.030293Z"
    },
    "papermill": {
     "duration": 0.239144,
     "end_time": "2024-09-10T11:58:09.034477",
     "exception": false,
     "start_time": "2024-09-10T11:58:08.795333",
     "status": "completed"
    },
    "tags": []
   },
   "outputs": [
    {
     "name": "stderr",
     "output_type": "stream",
     "text": [
      "/opt/conda/lib/python3.10/site-packages/seaborn/_oldcore.py:1765: FutureWarning: unique with argument that is not not a Series, Index, ExtensionArray, or np.ndarray is deprecated and will raise in a future version.\n",
      "  order = pd.unique(vector)\n"
     ]
    },
    {
     "data": {
      "image/png": "[encoded data removed]",
      "text/plain": [
       "<Figure size 640x480 with 1 Axes>"
      ]
     },
     "metadata": {},
     "output_type": "display_data"
    }
   ],
   "source": [
    "# Create a dictionary of model MSEs\n",
    "model_mse = {\n",
    "    \"Linear Regression\": mse_lr,\n",
    "    \"Decision Tree Regressor\": mse_dt,\n",
    "    \"SVR\": mse_svr\n",
    "}\n",
    "\n",
    "# Plot the MSEs\n",
    "sns.barplot(x=list(model_mse.keys()), y=list(model_mse.values()))\n",
    "plt.title(\"Comparison of Model MSEs\")\n",
    "plt.ylabel(\"Mean Squared Error\")\n",
    "plt.show()\n"
   ]
  },
  {
   "cell_type": "markdown",
   "id": "a9eb5fe5",
   "metadata": {
    "papermill": {
     "duration": 0.006906,
     "end_time": "2024-09-10T11:58:09.049521",
     "exception": false,
     "start_time": "2024-09-10T11:58:09.042615",
     "status": "completed"
    },
    "tags": []
   },
   "source": [
    "# **Conclusion**\n",
    "In this notebook, we introduced regression in machine learning and applied four different algorithms**—Linear Regression, Decision Tree Regressor, and SVR—**on the same dataset.\n",
    "\n",
    "Each model has its strengths and weaknesses, and the choice of the best model depends on the specific dataset and the nature of the problem:\n",
    "\n",
    "* **Linear Regression** is suitable for simple linear relationships.\n",
    "* **Decision Trees** can capture complex relationships but may overfit.\n",
    "* **SVR** is powerful but may require careful tuning of parameters."
   ]
  }
 ],
 "metadata": {
  "kaggle": {
   "accelerator": "none",
   "dataSources": [],
   "dockerImageVersionId": 30761,
   "isGpuEnabled": false,
   "isInternetEnabled": true,
   "language": "python",
   "sourceType": "notebook"
  },
  "kernelspec": {
   "display_name": "Python 3",
   "language": "python",
   "name": "python3"
  },
  "language_info": {
   "codemirror_mode": {
    "name": "ipython",
    "version": 3
   },
   "file_extension": ".py",
   "mimetype": "text/x-python",
   "name": "python",
   "nbconvert_exporter": "python",
   "pygments_lexer": "ipython3",
   "version": "3.10.14"
  },
  "papermill": {
   "default_parameters": {},
   "duration": 24.232695,
   "end_time": "2024-09-10T11:58:09.779718",
   "environment_variables": {},
   "exception": null,
   "input_path": "__notebook__.ipynb",
   "output_path": "__notebook__.ipynb",
   "parameters": {},
   "start_time": "2024-09-10T11:57:45.547023",
   "version": "2.6.0"
  }
 },
 "nbformat": 4,
 "nbformat_minor": 5
}
