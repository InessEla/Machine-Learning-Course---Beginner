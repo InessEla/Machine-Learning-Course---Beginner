{
 "cells": [
  {
   "cell_type": "markdown",
   "id": "ce8cb283",
   "metadata": {
    "papermill": {
     "duration": 0.009646,
     "end_time": "2024-09-10T11:22:25.318896",
     "exception": false,
     "start_time": "2024-09-10T11:22:25.309250",
     "status": "completed"
    },
    "tags": []
   },
   "source": [
    "> **Supervised learning** is a type of machine learning where we teach the model using labeled data. The goal is to make predictions on new, unseen data by learning patterns from the training data."
   ]
  },
  {
   "cell_type": "markdown",
   "id": "35484bf6",
   "metadata": {
    "papermill": {
     "duration": 0.008558,
     "end_time": "2024-09-10T11:22:25.336505",
     "exception": false,
     "start_time": "2024-09-10T11:22:25.327947",
     "status": "completed"
    },
    "tags": []
   },
   "source": [
    "![](https://images.shiksha.com/mediadata/ugcDocuments/images/wordpressImages/2022_11_MicrosoftTeams-image-5.jpg)"
   ]
  },
  {
   "cell_type": "markdown",
   "id": "311d1b85",
   "metadata": {
    "papermill": {
     "duration": 0.009624,
     "end_time": "2024-09-10T11:22:25.355604",
     "exception": false,
     "start_time": "2024-09-10T11:22:25.345980",
     "status": "completed"
    },
    "tags": []
   },
   "source": [
    "# **What is Supervised Learning?**"
   ]
  },
  {
   "cell_type": "markdown",
   "id": "46b4a052",
   "metadata": {
    "papermill": {
     "duration": 0.008545,
     "end_time": "2024-09-10T11:22:25.373255",
     "exception": false,
     "start_time": "2024-09-10T11:22:25.364710",
     "status": "completed"
    },
    "tags": []
   },
   "source": [
    "**In supervised learning, the dataset is divided into:**\n",
    "\n",
    "* **Features (X):** These are the input variables used to make predictions.\n",
    "* **Labels (y):** These are the output or target variables the model aims to predict.\n",
    "\n",
    "![](https://miro.medium.com/v2/resize:fit:828/format:webp/1*vJDLgkRjNAG4pHGKALYJvw.png)\n",
    "\n",
    "**The two main types of supervised learning are:**\n",
    "\n",
    "* **Classification:** Predicting a category (e.g., spam vs. not spam).\n",
    "* **Regression:** Predicting a continuous value (e.g., house price).\n",
    "\n",
    "![](https://media.licdn.com/dms/image/v2/D5612AQHleCueKC_lww/article-cover_image-shrink_720_1280/article-cover_image-shrink_720_1280/0/1677785069046?e=1731542400&v=beta&t=N3m7jwrPg0-a7x-xKdD4YA9a3EAqaS61o-HIWDJRrFU)\n",
    "\n",
    "In this notebook, we will focus on **classification** problems and apply four popular algorithms:\n",
    "\n",
    "1. Decision Trees\n",
    "2. K-Nearest Neighbors (KNN)\n",
    "3. Support Vector Machines (SVM)\n",
    "4. Logistic Regression"
   ]
  },
  {
   "cell_type": "markdown",
   "id": "a1665fcf",
   "metadata": {
    "papermill": {
     "duration": 0.008441,
     "end_time": "2024-09-10T11:22:25.390690",
     "exception": false,
     "start_time": "2024-09-10T11:22:25.382249",
     "status": "completed"
    },
    "tags": []
   },
   "source": [
    "# **Dataset Overview**"
   ]
  },
  {
   "cell_type": "markdown",
   "id": "5ef3ba2e",
   "metadata": {
    "papermill": {
     "duration": 0.008531,
     "end_time": "2024-09-10T11:22:25.408138",
     "exception": false,
     "start_time": "2024-09-10T11:22:25.399607",
     "status": "completed"
    },
    "tags": []
   },
   "source": [
    "> We will use the **Iris dataset**, which contains features describing different types of flowers, and we will predict their species.\n",
    "\n",
    "Let's start by loading the dataset and splitting it into training and testing sets."
   ]
  },
  {
   "cell_type": "code",
   "execution_count": 1,
   "id": "1ea4d926",
   "metadata": {
    "execution": {
     "iopub.execute_input": "2024-09-10T11:22:25.428272Z",
     "iopub.status.busy": "2024-09-10T11:22:25.427689Z",
     "iopub.status.idle": "2024-09-10T11:22:28.318241Z",
     "shell.execute_reply": "2024-09-10T11:22:28.316555Z"
    },
    "papermill": {
     "duration": 2.904098,
     "end_time": "2024-09-10T11:22:28.321277",
     "exception": false,
     "start_time": "2024-09-10T11:22:25.417179",
     "status": "completed"
    },
    "tags": []
   },
   "outputs": [
    {
     "data": {
      "text/html": [
       "<div>\n",
       "<style scoped>\n",
       "    .dataframe tbody tr th:only-of-type {\n",
       "        vertical-align: middle;\n",
       "    }\n",
       "\n",
       "    .dataframe tbody tr th {\n",
       "        vertical-align: top;\n",
       "    }\n",
       "\n",
       "    .dataframe thead th {\n",
       "        text-align: right;\n",
       "    }\n",
       "</style>\n",
       "<table border=\"1\" class=\"dataframe\">\n",
       "  <thead>\n",
       "    <tr style=\"text-align: right;\">\n",
       "      <th></th>\n",
       "      <th>sepal length (cm)</th>\n",
       "      <th>sepal width (cm)</th>\n",
       "      <th>petal length (cm)</th>\n",
       "      <th>petal width (cm)</th>\n",
       "    </tr>\n",
       "  </thead>\n",
       "  <tbody>\n",
       "    <tr>\n",
       "      <th>0</th>\n",
       "      <td>5.1</td>\n",
       "      <td>3.5</td>\n",
       "      <td>1.4</td>\n",
       "      <td>0.2</td>\n",
       "    </tr>\n",
       "    <tr>\n",
       "      <th>1</th>\n",
       "      <td>4.9</td>\n",
       "      <td>3.0</td>\n",
       "      <td>1.4</td>\n",
       "      <td>0.2</td>\n",
       "    </tr>\n",
       "    <tr>\n",
       "      <th>2</th>\n",
       "      <td>4.7</td>\n",
       "      <td>3.2</td>\n",
       "      <td>1.3</td>\n",
       "      <td>0.2</td>\n",
       "    </tr>\n",
       "    <tr>\n",
       "      <th>3</th>\n",
       "      <td>4.6</td>\n",
       "      <td>3.1</td>\n",
       "      <td>1.5</td>\n",
       "      <td>0.2</td>\n",
       "    </tr>\n",
       "    <tr>\n",
       "      <th>4</th>\n",
       "      <td>5.0</td>\n",
       "      <td>3.6</td>\n",
       "      <td>1.4</td>\n",
       "      <td>0.2</td>\n",
       "    </tr>\n",
       "  </tbody>\n",
       "</table>\n",
       "</div>"
      ],
      "text/plain": [
       "   sepal length (cm)  sepal width (cm)  petal length (cm)  petal width (cm)\n",
       "0                5.1               3.5                1.4               0.2\n",
       "1                4.9               3.0                1.4               0.2\n",
       "2                4.7               3.2                1.3               0.2\n",
       "3                4.6               3.1                1.5               0.2\n",
       "4                5.0               3.6                1.4               0.2"
      ]
     },
     "execution_count": 1,
     "metadata": {},
     "output_type": "execute_result"
    }
   ],
   "source": [
    "# Import necessary libraries\n",
    "import pandas as pd\n",
    "from sklearn.datasets import load_iris\n",
    "from sklearn.model_selection import train_test_split\n",
    "from sklearn.preprocessing import StandardScaler\n",
    "from sklearn.metrics import accuracy_score\n",
    "import seaborn as sns\n",
    "import matplotlib.pyplot as plt\n",
    "\n",
    "# Load the Iris dataset\n",
    "iris = load_iris()\n",
    "X = pd.DataFrame(iris.data, columns=iris.feature_names)\n",
    "y = pd.Series(iris.target)\n",
    "\n",
    "# Split the data into training and testing sets\n",
    "X_train, X_test, y_train, y_test = train_test_split(X, y, test_size=0.2, random_state=42)\n",
    "\n",
    "# Display the first few rows of the dataset\n",
    "X.head()\n"
   ]
  },
  {
   "cell_type": "markdown",
   "id": "4b070515",
   "metadata": {
    "papermill": {
     "duration": 0.008925,
     "end_time": "2024-09-10T11:22:28.339559",
     "exception": false,
     "start_time": "2024-09-10T11:22:28.330634",
     "status": "completed"
    },
    "tags": []
   },
   "source": [
    "# **Data Standardization**"
   ]
  },
  {
   "cell_type": "markdown",
   "id": "0661431f",
   "metadata": {
    "papermill": {
     "duration": 0.009306,
     "end_time": "2024-09-10T11:22:28.358174",
     "exception": false,
     "start_time": "2024-09-10T11:22:28.348868",
     "status": "completed"
    },
    "tags": []
   },
   "source": [
    "Before training, we will standardize the features to ensure that algorithms like **KNN** and **SVM** perform optimally.\n",
    "**Note:** Check Session 2 for more details about Data Standarization and Data preparation in general ---> \n",
    "[](https://www.kaggle.com/code/inesselahchaichi/session-2-unsupervised-learning-and-data-preproc/edit)"
   ]
  },
  {
   "cell_type": "code",
   "execution_count": 2,
   "id": "7101ebeb",
   "metadata": {
    "execution": {
     "iopub.execute_input": "2024-09-10T11:22:28.378814Z",
     "iopub.status.busy": "2024-09-10T11:22:28.378220Z",
     "iopub.status.idle": "2024-09-10T11:22:28.391398Z",
     "shell.execute_reply": "2024-09-10T11:22:28.390007Z"
    },
    "papermill": {
     "duration": 0.026654,
     "end_time": "2024-09-10T11:22:28.394056",
     "exception": false,
     "start_time": "2024-09-10T11:22:28.367402",
     "status": "completed"
    },
    "tags": []
   },
   "outputs": [],
   "source": [
    "# Standardize the features\n",
    "scaler = StandardScaler()\n",
    "X_train_scaled = scaler.fit_transform(X_train)\n",
    "X_test_scaled = scaler.transform(X_test)"
   ]
  },
  {
   "cell_type": "markdown",
   "id": "65632abf",
   "metadata": {
    "papermill": {
     "duration": 0.008958,
     "end_time": "2024-09-10T11:22:28.412330",
     "exception": false,
     "start_time": "2024-09-10T11:22:28.403372",
     "status": "completed"
    },
    "tags": []
   },
   "source": [
    "# **1. Decision Trees**"
   ]
  },
  {
   "cell_type": "markdown",
   "id": "9dc7414f",
   "metadata": {
    "papermill": {
     "duration": 0.009078,
     "end_time": "2024-09-10T11:22:28.431177",
     "exception": false,
     "start_time": "2024-09-10T11:22:28.422099",
     "status": "completed"
    },
    "tags": []
   },
   "source": [
    "A **Decision Tree** is a flowchart-like structure where each internal node represents a \"decision\" (based on a feature), and each leaf node represents an outcome (classification).\n",
    "\n",
    "![](https://cdn.botpenguin.com/assets/website/Decision_Trees_c368440b4d.png)"
   ]
  },
  {
   "cell_type": "markdown",
   "id": "d846936b",
   "metadata": {
    "papermill": {
     "duration": 0.009145,
     "end_time": "2024-09-10T11:22:28.449652",
     "exception": false,
     "start_time": "2024-09-10T11:22:28.440507",
     "status": "completed"
    },
    "tags": []
   },
   "source": [
    "**Let's explore a real world example:**"
   ]
  },
  {
   "cell_type": "markdown",
   "id": "ef6c2789",
   "metadata": {
    "papermill": {
     "duration": 0.009127,
     "end_time": "2024-09-10T11:22:28.468029",
     "exception": false,
     "start_time": "2024-09-10T11:22:28.458902",
     "status": "completed"
    },
    "tags": []
   },
   "source": [
    "![](https://media.geeksforgeeks.org/wp-content/uploads/20231207115535/decisionTree2.png)"
   ]
  },
  {
   "cell_type": "code",
   "execution_count": 3,
   "id": "59b6c574",
   "metadata": {
    "execution": {
     "iopub.execute_input": "2024-09-10T11:22:28.488499Z",
     "iopub.status.busy": "2024-09-10T11:22:28.488024Z",
     "iopub.status.idle": "2024-09-10T11:22:28.728659Z",
     "shell.execute_reply": "2024-09-10T11:22:28.727361Z"
    },
    "papermill": {
     "duration": 0.2544,
     "end_time": "2024-09-10T11:22:28.731628",
     "exception": false,
     "start_time": "2024-09-10T11:22:28.477228",
     "status": "completed"
    },
    "tags": []
   },
   "outputs": [
    {
     "name": "stdout",
     "output_type": "stream",
     "text": [
      "Decision Tree Accuracy: 1.00\n"
     ]
    }
   ],
   "source": [
    "# Import Decision Tree Classifier\n",
    "from sklearn.tree import DecisionTreeClassifier\n",
    "\n",
    "# Initialize the model\n",
    "dt_model = DecisionTreeClassifier()\n",
    "\n",
    "# Train the model\n",
    "dt_model.fit(X_train, y_train)\n",
    "\n",
    "# Make predictions\n",
    "y_pred_dt = dt_model.predict(X_test)\n",
    "\n",
    "# Calculate accuracy\n",
    "accuracy_dt = accuracy_score(y_test, y_pred_dt)\n",
    "print(f\"Decision Tree Accuracy: {accuracy_dt:.2f}\")\n"
   ]
  },
  {
   "cell_type": "markdown",
   "id": "715f6c09",
   "metadata": {
    "papermill": {
     "duration": 0.010048,
     "end_time": "2024-09-10T11:22:28.751577",
     "exception": false,
     "start_time": "2024-09-10T11:22:28.741529",
     "status": "completed"
    },
    "tags": []
   },
   "source": [
    "# **Decision Tree Summary**"
   ]
  },
  {
   "cell_type": "markdown",
   "id": "2db1e84c",
   "metadata": {
    "papermill": {
     "duration": 0.009996,
     "end_time": "2024-09-10T11:22:28.770936",
     "exception": false,
     "start_time": "2024-09-10T11:22:28.760940",
     "status": "completed"
    },
    "tags": []
   },
   "source": [
    "> Decision Trees are easy to understand and visualize. However, they can easily overfit, especially with noisy data. To mitigate this, parameters like max_depth can be adjusted."
   ]
  },
  {
   "cell_type": "markdown",
   "id": "6f4a3833",
   "metadata": {
    "papermill": {
     "duration": 0.009751,
     "end_time": "2024-09-10T11:22:28.790229",
     "exception": false,
     "start_time": "2024-09-10T11:22:28.780478",
     "status": "completed"
    },
    "tags": []
   },
   "source": [
    "# **2. K-Nearest Neighbors (KNN)**\n",
    "**K-Nearest Neighbors (KNN)** is a simple, non-parametric algorithm that makes predictions by looking at the \"k\" closest data points and choosing the majority class.\n"
   ]
  },
  {
   "cell_type": "markdown",
   "id": "719008b8",
   "metadata": {
    "papermill": {
     "duration": 0.009097,
     "end_time": "2024-09-10T11:22:28.809676",
     "exception": false,
     "start_time": "2024-09-10T11:22:28.800579",
     "status": "completed"
    },
    "tags": []
   },
   "source": [
    "![](https://miro.medium.com/v2/resize:fit:640/format:webp/0*2_qzcm2gSe9l67aI.png)"
   ]
  },
  {
   "cell_type": "code",
   "execution_count": 4,
   "id": "d6808cd9",
   "metadata": {
    "execution": {
     "iopub.execute_input": "2024-09-10T11:22:28.833425Z",
     "iopub.status.busy": "2024-09-10T11:22:28.832954Z",
     "iopub.status.idle": "2024-09-10T11:22:28.851579Z",
     "shell.execute_reply": "2024-09-10T11:22:28.850202Z"
    },
    "papermill": {
     "duration": 0.034669,
     "end_time": "2024-09-10T11:22:28.854429",
     "exception": false,
     "start_time": "2024-09-10T11:22:28.819760",
     "status": "completed"
    },
    "tags": []
   },
   "outputs": [
    {
     "name": "stdout",
     "output_type": "stream",
     "text": [
      "KNN Accuracy: 1.00\n"
     ]
    }
   ],
   "source": [
    "# Import KNN Classifier\n",
    "from sklearn.neighbors import KNeighborsClassifier\n",
    "\n",
    "# Initialize the model (k=5)\n",
    "knn_model = KNeighborsClassifier(n_neighbors=5)\n",
    "\n",
    "# Train the model\n",
    "knn_model.fit(X_train_scaled, y_train)\n",
    "\n",
    "# Make predictions\n",
    "y_pred_knn = knn_model.predict(X_test_scaled)\n",
    "\n",
    "# Calculate accuracy\n",
    "accuracy_knn = accuracy_score(y_test, y_pred_knn)\n",
    "print(f\"KNN Accuracy: {accuracy_knn:.2f}\")\n"
   ]
  },
  {
   "cell_type": "markdown",
   "id": "3c29b211",
   "metadata": {
    "papermill": {
     "duration": 0.01014,
     "end_time": "2024-09-10T11:22:28.874034",
     "exception": false,
     "start_time": "2024-09-10T11:22:28.863894",
     "status": "completed"
    },
    "tags": []
   },
   "source": [
    "# **KNN Summary**\n",
    "**KNN** is very intuitive but can be slow for large datasets. Choosing the right value of k is crucial for its performance."
   ]
  },
  {
   "cell_type": "markdown",
   "id": "104b2484",
   "metadata": {
    "papermill": {
     "duration": 0.009168,
     "end_time": "2024-09-10T11:22:28.892676",
     "exception": false,
     "start_time": "2024-09-10T11:22:28.883508",
     "status": "completed"
    },
    "tags": []
   },
   "source": [
    "# **3. Support Vector Machines (SVM)**"
   ]
  },
  {
   "cell_type": "markdown",
   "id": "466614bb",
   "metadata": {
    "papermill": {
     "duration": 0.010206,
     "end_time": "2024-09-10T11:22:28.912397",
     "exception": false,
     "start_time": "2024-09-10T11:22:28.902191",
     "status": "completed"
    },
    "tags": []
   },
   "source": [
    "> **Support Vector Machines (SVM)** aim to find a hyperplane that best separates the classes in the dataset. It works well for both linear and non-linear classification tasks."
   ]
  },
  {
   "cell_type": "markdown",
   "id": "624072e0",
   "metadata": {
    "papermill": {
     "duration": 0.009306,
     "end_time": "2024-09-10T11:22:28.931693",
     "exception": false,
     "start_time": "2024-09-10T11:22:28.922387",
     "status": "completed"
    },
    "tags": []
   },
   "source": [
    "![](https://i0.wp.com/spotintelligence.com/wp-content/uploads/2024/05/support-vector-machine-svm.jpg?resize=1024%2C576&ssl=1)"
   ]
  },
  {
   "cell_type": "code",
   "execution_count": 5,
   "id": "fdcd5e06",
   "metadata": {
    "execution": {
     "iopub.execute_input": "2024-09-10T11:22:28.953496Z",
     "iopub.status.busy": "2024-09-10T11:22:28.953023Z",
     "iopub.status.idle": "2024-09-10T11:22:28.965304Z",
     "shell.execute_reply": "2024-09-10T11:22:28.963897Z"
    },
    "papermill": {
     "duration": 0.026746,
     "end_time": "2024-09-10T11:22:28.968018",
     "exception": false,
     "start_time": "2024-09-10T11:22:28.941272",
     "status": "completed"
    },
    "tags": []
   },
   "outputs": [
    {
     "name": "stdout",
     "output_type": "stream",
     "text": [
      "SVM Accuracy: 1.00\n"
     ]
    }
   ],
   "source": [
    "# Import SVM Classifier\n",
    "from sklearn.svm import SVC\n",
    "\n",
    "# Initialize the model\n",
    "svm_model = SVC()\n",
    "\n",
    "# Train the model\n",
    "svm_model.fit(X_train_scaled, y_train)\n",
    "\n",
    "# Make predictions\n",
    "y_pred_svm = svm_model.predict(X_test_scaled)\n",
    "\n",
    "# Calculate accuracy\n",
    "accuracy_svm = accuracy_score(y_test, y_pred_svm)\n",
    "print(f\"SVM Accuracy: {accuracy_svm:.2f}\")"
   ]
  },
  {
   "cell_type": "markdown",
   "id": "b0bae012",
   "metadata": {
    "papermill": {
     "duration": 0.009256,
     "end_time": "2024-09-10T11:22:28.987261",
     "exception": false,
     "start_time": "2024-09-10T11:22:28.978005",
     "status": "completed"
    },
    "tags": []
   },
   "source": [
    "# **SVM Summary**\n",
    "**SVM** is a powerful model, particularly for small to medium-sized datasets. However, it can be computationally expensive on large datasets."
   ]
  },
  {
   "cell_type": "markdown",
   "id": "6a00b945",
   "metadata": {
    "papermill": {
     "duration": 0.010221,
     "end_time": "2024-09-10T11:22:29.006980",
     "exception": false,
     "start_time": "2024-09-10T11:22:28.996759",
     "status": "completed"
    },
    "tags": []
   },
   "source": [
    "# **4. Logistic Regression**\n",
    "Despite its name, **Logistic Regression** is a classification algorithm. It estimates the probability that a data point belongs to a specific class using the logistic function.\n",
    "![](https://www.ejable.com/wp-content/uploads/2023/11/linear-regression-vs-logistic-regression-2.webp)"
   ]
  },
  {
   "cell_type": "code",
   "execution_count": 6,
   "id": "241a6b5c",
   "metadata": {
    "execution": {
     "iopub.execute_input": "2024-09-10T11:22:29.028608Z",
     "iopub.status.busy": "2024-09-10T11:22:29.028161Z",
     "iopub.status.idle": "2024-09-10T11:22:29.059004Z",
     "shell.execute_reply": "2024-09-10T11:22:29.057650Z"
    },
    "papermill": {
     "duration": 0.044752,
     "end_time": "2024-09-10T11:22:29.061735",
     "exception": false,
     "start_time": "2024-09-10T11:22:29.016983",
     "status": "completed"
    },
    "tags": []
   },
   "outputs": [
    {
     "name": "stdout",
     "output_type": "stream",
     "text": [
      "Logistic Regression Accuracy: 1.00\n"
     ]
    }
   ],
   "source": [
    "# Import Logistic Regression\n",
    "from sklearn.linear_model import LogisticRegression\n",
    "\n",
    "# Initialize the model\n",
    "lr_model = LogisticRegression()\n",
    "\n",
    "# Train the model\n",
    "lr_model.fit(X_train_scaled, y_train)\n",
    "\n",
    "# Make predictions\n",
    "y_pred_lr = lr_model.predict(X_test_scaled)\n",
    "\n",
    "# Calculate accuracy\n",
    "accuracy_lr = accuracy_score(y_test, y_pred_lr)\n",
    "print(f\"Logistic Regression Accuracy: {accuracy_lr:.2f}\")"
   ]
  },
  {
   "cell_type": "markdown",
   "id": "225d0581",
   "metadata": {
    "papermill": {
     "duration": 0.009281,
     "end_time": "2024-09-10T11:22:29.080856",
     "exception": false,
     "start_time": "2024-09-10T11:22:29.071575",
     "status": "completed"
    },
    "tags": []
   },
   "source": [
    "# **Logistic Regression Summary**\n",
    "Logistic Regression is simple yet effective for binary classification problems. It's commonly used as a baseline model."
   ]
  },
  {
   "cell_type": "markdown",
   "id": "0c63757b",
   "metadata": {
    "papermill": {
     "duration": 0.009236,
     "end_time": "2024-09-10T11:22:29.099681",
     "exception": false,
     "start_time": "2024-09-10T11:22:29.090445",
     "status": "completed"
    },
    "tags": []
   },
   "source": [
    "# **Comparison of Models**"
   ]
  },
  {
   "cell_type": "markdown",
   "id": "20df7bb9",
   "metadata": {
    "papermill": {
     "duration": 0.009307,
     "end_time": "2024-09-10T11:22:29.119213",
     "exception": false,
     "start_time": "2024-09-10T11:22:29.109906",
     "status": "completed"
    },
    "tags": []
   },
   "source": [
    "Now, let’s compare the performance of all four models."
   ]
  },
  {
   "cell_type": "code",
   "execution_count": 7,
   "id": "afc4f98e",
   "metadata": {
    "execution": {
     "iopub.execute_input": "2024-09-10T11:22:29.140833Z",
     "iopub.status.busy": "2024-09-10T11:22:29.140369Z",
     "iopub.status.idle": "2024-09-10T11:22:29.446350Z",
     "shell.execute_reply": "2024-09-10T11:22:29.444792Z"
    },
    "papermill": {
     "duration": 0.319922,
     "end_time": "2024-09-10T11:22:29.449196",
     "exception": false,
     "start_time": "2024-09-10T11:22:29.129274",
     "status": "completed"
    },
    "tags": []
   },
   "outputs": [
    {
     "name": "stderr",
     "output_type": "stream",
     "text": [
      "/opt/conda/lib/python3.10/site-packages/seaborn/_oldcore.py:1765: FutureWarning: unique with argument that is not not a Series, Index, ExtensionArray, or np.ndarray is deprecated and will raise in a future version.\n",
      "  order = pd.unique(vector)\n"
     ]
    },
    {
     "data": {
      "image/png": "[encoded data removed]",
      "text/plain": [
       "<Figure size 640x480 with 1 Axes>"
      ]
     },
     "metadata": {},
     "output_type": "display_data"
    }
   ],
   "source": [
    "# Create a dictionary of model accuracies\n",
    "model_accuracies = {\n",
    "    \"Decision Tree\": accuracy_dt,\n",
    "    \"KNN\": accuracy_knn,\n",
    "    \"SVM\": accuracy_svm,\n",
    "    \"Logistic Regression\": accuracy_lr\n",
    "}\n",
    "\n",
    "# Plot the accuracies\n",
    "sns.barplot(x=list(model_accuracies.keys()), y=list(model_accuracies.values()))\n",
    "plt.title(\"Comparison of Model Accuracies\")\n",
    "plt.ylabel(\"Accuracy\")\n",
    "plt.show()\n"
   ]
  },
  {
   "cell_type": "markdown",
   "id": "ff6f71c4",
   "metadata": {
    "papermill": {
     "duration": 0.009926,
     "end_time": "2024-09-10T11:22:29.469677",
     "exception": false,
     "start_time": "2024-09-10T11:22:29.459751",
     "status": "completed"
    },
    "tags": []
   },
   "source": [
    "# **Conclusion**"
   ]
  },
  {
   "cell_type": "markdown",
   "id": "15b77f08",
   "metadata": {
    "papermill": {
     "duration": 0.009623,
     "end_time": "2024-09-10T11:22:29.489455",
     "exception": false,
     "start_time": "2024-09-10T11:22:29.479832",
     "status": "completed"
    },
    "tags": []
   },
   "source": [
    "In this notebook, we introduced supervised learning and applied four different algorithms**—Decision Trees, KNN, SVM, and Logistic Regression—**on the same dataset.\n",
    "\n",
    "Each model has its strengths and weaknesses, and the best model depends on the specific characteristics of the dataset.\n",
    "\n",
    "For beginners, it’s essential to understand:\n",
    "\n",
    "* When to use each algorithm.\n",
    "* How to interpret the results.\n",
    "* How to tune the models for better performance."
   ]
  }
 ],
 "metadata": {
  "kaggle": {
   "accelerator": "none",
   "dataSources": [],
   "dockerImageVersionId": 30761,
   "isGpuEnabled": false,
   "isInternetEnabled": true,
   "language": "python",
   "sourceType": "notebook"
  },
  "kernelspec": {
   "display_name": "Python 3",
   "language": "python",
   "name": "python3"
  },
  "language_info": {
   "codemirror_mode": {
    "name": "ipython",
    "version": 3
   },
   "file_extension": ".py",
   "mimetype": "text/x-python",
   "name": "python",
   "nbconvert_exporter": "python",
   "pygments_lexer": "ipython3",
   "version": "3.10.14"
  },
  "papermill": {
   "default_parameters": {},
   "duration": 8.155835,
   "end_time": "2024-09-10T11:22:30.222104",
   "environment_variables": {},
   "exception": null,
   "input_path": "__notebook__.ipynb",
   "output_path": "__notebook__.ipynb",
   "parameters": {},
   "start_time": "2024-09-10T11:22:22.066269",
   "version": "2.6.0"
  }
 },
 "nbformat": 4,
 "nbformat_minor": 5
}
