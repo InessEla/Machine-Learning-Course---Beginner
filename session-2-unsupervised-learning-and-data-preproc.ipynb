{
 "cells": [
  {
   "cell_type": "markdown",
   "id": "a873525b",
   "metadata": {
    "_cell_guid": "b1076dfc-b9ad-4769-8c92-a6c4dae69d19",
    "_uuid": "8f2839f25d086af736a60e9eeb907d3b93b6e0e5",
    "papermill": {
     "duration": 0.011472,
     "end_time": "2024-09-10T10:58:01.975566",
     "exception": false,
     "start_time": "2024-09-10T10:58:01.964094",
     "status": "completed"
    },
    "tags": []
   },
   "source": [
    "# Session 2: Unsupervised Learning and Data Preprocessing"
   ]
  },
  {
   "cell_type": "markdown",
   "id": "6aa247e0",
   "metadata": {
    "papermill": {
     "duration": 0.010038,
     "end_time": "2024-09-10T10:58:01.996535",
     "exception": false,
     "start_time": "2024-09-10T10:58:01.986497",
     "status": "completed"
    },
    "tags": []
   },
   "source": [
    "Welcome to Session 2! Now that we’ve learned about supervised learning and built our first classifier using a decision tree, we’ll dive into unsupervised learning today. We’ll also learn about data preprocessing, which is a crucial step in preparing your data before feeding it to a machine learning model. This session will be packed with new concepts and hands-on coding, so let’s get started!"
   ]
  },
  {
   "cell_type": "markdown",
   "id": "84677a42",
   "metadata": {
    "papermill": {
     "duration": 0.009854,
     "end_time": "2024-09-10T10:58:02.016731",
     "exception": false,
     "start_time": "2024-09-10T10:58:02.006877",
     "status": "completed"
    },
    "tags": []
   },
   "source": [
    "1. Introduction to Unsupervised Learning"
   ]
  },
  {
   "cell_type": "markdown",
   "id": "4268f9da",
   "metadata": {
    "papermill": {
     "duration": 0.009872,
     "end_time": "2024-09-10T10:58:02.036882",
     "exception": false,
     "start_time": "2024-09-10T10:58:02.027010",
     "status": "completed"
    },
    "tags": []
   },
   "source": [
    "**What is Unsupervised Learning?**\n",
    "Unsupervised learning is a type of machine learning where the model is trained on data that has no labels. Unlike supervised learning, we don’t tell the model what the correct output should be. Instead, the algorithm tries to discover hidden patterns or structures in the data.\n",
    "\n"
   ]
  },
  {
   "cell_type": "markdown",
   "id": "9f632e74",
   "metadata": {
    "papermill": {
     "duration": 0.009839,
     "end_time": "2024-09-10T10:58:02.056966",
     "exception": false,
     "start_time": "2024-09-10T10:58:02.047127",
     "status": "completed"
    },
    "tags": []
   },
   "source": [
    "![](https://eastgate-software.com/wp-content/uploads/2023/10/Unsupervised-Learning-Clustering.png)"
   ]
  },
  {
   "cell_type": "markdown",
   "id": "d3a3d910",
   "metadata": {
    "papermill": {
     "duration": 0.009865,
     "end_time": "2024-09-10T10:58:02.077016",
     "exception": false,
     "start_time": "2024-09-10T10:58:02.067151",
     "status": "completed"
    },
    "tags": []
   },
   "source": [
    ">  The two most common unsupervised learning tasks are:\n",
    "* Clustering: Grouping data points into clusters (e.g., K-Means clustering).\n",
    "* Dimensionality Reduction: Reducing the number of features while keeping the most important information (e.g., PCA).\n"
   ]
  },
  {
   "cell_type": "markdown",
   "id": "15ef533d",
   "metadata": {
    "papermill": {
     "duration": 0.009857,
     "end_time": "2024-09-10T10:58:02.097130",
     "exception": false,
     "start_time": "2024-09-10T10:58:02.087273",
     "status": "completed"
    },
    "tags": []
   },
   "source": [
    "What is Clustering? Clustering is the process of dividing a dataset into groups, where the data points in each group are more similar to each other than to those in other groups. This is useful when you want to discover patterns in data that you don’t already know, like identifying different customer segments."
   ]
  },
  {
   "cell_type": "markdown",
   "id": "913389a3",
   "metadata": {
    "papermill": {
     "duration": 0.009984,
     "end_time": "2024-09-10T10:58:02.117810",
     "exception": false,
     "start_time": "2024-09-10T10:58:02.107826",
     "status": "completed"
    },
    "tags": []
   },
   "source": [
    "![](https://waterprogramming.wordpress.com/wp-content/uploads/2022/03/graphic.png?w=1024)"
   ]
  },
  {
   "cell_type": "markdown",
   "id": "e4fd41af",
   "metadata": {
    "papermill": {
     "duration": 0.010043,
     "end_time": "2024-09-10T10:58:02.138059",
     "exception": false,
     "start_time": "2024-09-10T10:58:02.128016",
     "status": "completed"
    },
    "tags": []
   },
   "source": [
    "What is K-Means? K-Means is one of the most popular clustering algorithms. It works by dividing the data into K clusters, where each cluster is represented by a centroid. The algorithm iteratively updates the centroids until the data points are assigned to the nearest centroid.\n"
   ]
  },
  {
   "cell_type": "markdown",
   "id": "2b8f4a82",
   "metadata": {
    "papermill": {
     "duration": 0.010288,
     "end_time": "2024-09-10T10:58:02.159374",
     "exception": false,
     "start_time": "2024-09-10T10:58:02.149086",
     "status": "completed"
    },
    "tags": []
   },
   "source": [
    "![](https://miro.medium.com/v2/resize:fit:1017/1*vNng_oOsNRHKrlh3pjSAyA.png)"
   ]
  },
  {
   "cell_type": "markdown",
   "id": "4e5d1b90",
   "metadata": {
    "papermill": {
     "duration": 0.009871,
     "end_time": "2024-09-10T10:58:02.179598",
     "exception": false,
     "start_time": "2024-09-10T10:58:02.169727",
     "status": "completed"
    },
    "tags": []
   },
   "source": [
    "2. Data Preprocessing"
   ]
  },
  {
   "cell_type": "markdown",
   "id": "2f8a4205",
   "metadata": {
    "papermill": {
     "duration": 0.010317,
     "end_time": "2024-09-10T10:58:02.200176",
     "exception": false,
     "start_time": "2024-09-10T10:58:02.189859",
     "status": "completed"
    },
    "tags": []
   },
   "source": [
    "Before we can apply any machine learning algorithm, we need to preprocess our data. Data preprocessing is one of the most critical steps in any machine learning workflow. In this section, we will handle missing data, scale the features, and select relevant features for clustering.\n",
    "\n"
   ]
  },
  {
   "cell_type": "markdown",
   "id": "79378f81",
   "metadata": {
    "papermill": {
     "duration": 0.00981,
     "end_time": "2024-09-10T10:58:02.220233",
     "exception": false,
     "start_time": "2024-09-10T10:58:02.210423",
     "status": "completed"
    },
    "tags": []
   },
   "source": [
    "Step 1: Load the Wine Dataset\n",
    "\n",
    "We’ll use the Wine dataset, which contains chemical properties of wine samples."
   ]
  },
  {
   "cell_type": "code",
   "execution_count": 1,
   "id": "d8d1ac21",
   "metadata": {
    "execution": {
     "iopub.execute_input": "2024-09-10T10:58:02.243182Z",
     "iopub.status.busy": "2024-09-10T10:58:02.242717Z",
     "iopub.status.idle": "2024-09-10T10:58:04.155439Z",
     "shell.execute_reply": "2024-09-10T10:58:04.154371Z"
    },
    "papermill": {
     "duration": 1.927122,
     "end_time": "2024-09-10T10:58:04.157999",
     "exception": false,
     "start_time": "2024-09-10T10:58:02.230877",
     "status": "completed"
    },
    "tags": []
   },
   "outputs": [
    {
     "data": {
      "text/html": [
       "<div>\n",
       "<style scoped>\n",
       "    .dataframe tbody tr th:only-of-type {\n",
       "        vertical-align: middle;\n",
       "    }\n",
       "\n",
       "    .dataframe tbody tr th {\n",
       "        vertical-align: top;\n",
       "    }\n",
       "\n",
       "    .dataframe thead th {\n",
       "        text-align: right;\n",
       "    }\n",
       "</style>\n",
       "<table border=\"1\" class=\"dataframe\">\n",
       "  <thead>\n",
       "    <tr style=\"text-align: right;\">\n",
       "      <th></th>\n",
       "      <th>alcohol</th>\n",
       "      <th>malic_acid</th>\n",
       "      <th>ash</th>\n",
       "      <th>alcalinity_of_ash</th>\n",
       "      <th>magnesium</th>\n",
       "      <th>total_phenols</th>\n",
       "      <th>flavanoids</th>\n",
       "      <th>nonflavanoid_phenols</th>\n",
       "      <th>proanthocyanins</th>\n",
       "      <th>color_intensity</th>\n",
       "      <th>hue</th>\n",
       "      <th>od280/od315_of_diluted_wines</th>\n",
       "      <th>proline</th>\n",
       "    </tr>\n",
       "  </thead>\n",
       "  <tbody>\n",
       "    <tr>\n",
       "      <th>0</th>\n",
       "      <td>14.23</td>\n",
       "      <td>1.71</td>\n",
       "      <td>2.43</td>\n",
       "      <td>15.6</td>\n",
       "      <td>127.0</td>\n",
       "      <td>2.80</td>\n",
       "      <td>3.06</td>\n",
       "      <td>0.28</td>\n",
       "      <td>2.29</td>\n",
       "      <td>5.64</td>\n",
       "      <td>1.04</td>\n",
       "      <td>3.92</td>\n",
       "      <td>1065.0</td>\n",
       "    </tr>\n",
       "    <tr>\n",
       "      <th>1</th>\n",
       "      <td>13.20</td>\n",
       "      <td>1.78</td>\n",
       "      <td>2.14</td>\n",
       "      <td>11.2</td>\n",
       "      <td>100.0</td>\n",
       "      <td>2.65</td>\n",
       "      <td>2.76</td>\n",
       "      <td>0.26</td>\n",
       "      <td>1.28</td>\n",
       "      <td>4.38</td>\n",
       "      <td>1.05</td>\n",
       "      <td>3.40</td>\n",
       "      <td>1050.0</td>\n",
       "    </tr>\n",
       "    <tr>\n",
       "      <th>2</th>\n",
       "      <td>13.16</td>\n",
       "      <td>2.36</td>\n",
       "      <td>2.67</td>\n",
       "      <td>18.6</td>\n",
       "      <td>101.0</td>\n",
       "      <td>2.80</td>\n",
       "      <td>3.24</td>\n",
       "      <td>0.30</td>\n",
       "      <td>2.81</td>\n",
       "      <td>5.68</td>\n",
       "      <td>1.03</td>\n",
       "      <td>3.17</td>\n",
       "      <td>1185.0</td>\n",
       "    </tr>\n",
       "    <tr>\n",
       "      <th>3</th>\n",
       "      <td>14.37</td>\n",
       "      <td>1.95</td>\n",
       "      <td>2.50</td>\n",
       "      <td>16.8</td>\n",
       "      <td>113.0</td>\n",
       "      <td>3.85</td>\n",
       "      <td>3.49</td>\n",
       "      <td>0.24</td>\n",
       "      <td>2.18</td>\n",
       "      <td>7.80</td>\n",
       "      <td>0.86</td>\n",
       "      <td>3.45</td>\n",
       "      <td>1480.0</td>\n",
       "    </tr>\n",
       "    <tr>\n",
       "      <th>4</th>\n",
       "      <td>13.24</td>\n",
       "      <td>2.59</td>\n",
       "      <td>2.87</td>\n",
       "      <td>21.0</td>\n",
       "      <td>118.0</td>\n",
       "      <td>2.80</td>\n",
       "      <td>2.69</td>\n",
       "      <td>0.39</td>\n",
       "      <td>1.82</td>\n",
       "      <td>4.32</td>\n",
       "      <td>1.04</td>\n",
       "      <td>2.93</td>\n",
       "      <td>735.0</td>\n",
       "    </tr>\n",
       "  </tbody>\n",
       "</table>\n",
       "</div>"
      ],
      "text/plain": [
       "   alcohol  malic_acid   ash  alcalinity_of_ash  magnesium  total_phenols  \\\n",
       "0    14.23        1.71  2.43               15.6      127.0           2.80   \n",
       "1    13.20        1.78  2.14               11.2      100.0           2.65   \n",
       "2    13.16        2.36  2.67               18.6      101.0           2.80   \n",
       "3    14.37        1.95  2.50               16.8      113.0           3.85   \n",
       "4    13.24        2.59  2.87               21.0      118.0           2.80   \n",
       "\n",
       "   flavanoids  nonflavanoid_phenols  proanthocyanins  color_intensity   hue  \\\n",
       "0        3.06                  0.28             2.29             5.64  1.04   \n",
       "1        2.76                  0.26             1.28             4.38  1.05   \n",
       "2        3.24                  0.30             2.81             5.68  1.03   \n",
       "3        3.49                  0.24             2.18             7.80  0.86   \n",
       "4        2.69                  0.39             1.82             4.32  1.04   \n",
       "\n",
       "   od280/od315_of_diluted_wines  proline  \n",
       "0                          3.92   1065.0  \n",
       "1                          3.40   1050.0  \n",
       "2                          3.17   1185.0  \n",
       "3                          3.45   1480.0  \n",
       "4                          2.93    735.0  "
      ]
     },
     "execution_count": 1,
     "metadata": {},
     "output_type": "execute_result"
    }
   ],
   "source": [
    "from sklearn.datasets import load_wine\n",
    "import pandas as pd\n",
    "\n",
    "# Load the Wine dataset\n",
    "wine_data = load_wine()\n",
    "df = pd.DataFrame(data=wine_data.data, columns=wine_data.feature_names)\n",
    "\n",
    "# Preview the dataset\n",
    "df.head()\n"
   ]
  },
  {
   "cell_type": "markdown",
   "id": "a8e3a7b0",
   "metadata": {
    "papermill": {
     "duration": 0.010074,
     "end_time": "2024-09-10T10:58:04.178583",
     "exception": false,
     "start_time": "2024-09-10T10:58:04.168509",
     "status": "completed"
    },
    "tags": []
   },
   "source": [
    "The dataset consists of features such as alcohol content, magnesium, flavonoids, and other chemical properties of wines.\n",
    "\n"
   ]
  },
  {
   "cell_type": "markdown",
   "id": "4c924d58",
   "metadata": {
    "papermill": {
     "duration": 0.010212,
     "end_time": "2024-09-10T10:58:04.199064",
     "exception": false,
     "start_time": "2024-09-10T10:58:04.188852",
     "status": "completed"
    },
    "tags": []
   },
   "source": [
    "Step 2: Handling Missing Data"
   ]
  },
  {
   "cell_type": "markdown",
   "id": "d2e854ad",
   "metadata": {
    "papermill": {
     "duration": 0.009925,
     "end_time": "2024-09-10T10:58:04.219155",
     "exception": false,
     "start_time": "2024-09-10T10:58:04.209230",
     "status": "completed"
    },
    "tags": []
   },
   "source": [
    "What is Missing Data? I\n",
    "\n",
    "In real-world data, missing values are quite common. Machine learning algorithms cannot work with missing data, so we need to handle it before proceeding.\n",
    "\n",
    "There are several strategies for handling missing data:\n",
    "\n",
    "* Remove rows with missing values: If only a few rows are missing data.\n",
    "* Impute missing values: Replace missing data with the mean, median, or a custom value."
   ]
  },
  {
   "cell_type": "markdown",
   "id": "4378fbfa",
   "metadata": {
    "papermill": {
     "duration": 0.009973,
     "end_time": "2024-09-10T10:58:04.239466",
     "exception": false,
     "start_time": "2024-09-10T10:58:04.229493",
     "status": "completed"
    },
    "tags": []
   },
   "source": [
    "How to Check for Missing Data:"
   ]
  },
  {
   "cell_type": "code",
   "execution_count": 2,
   "id": "5122af2a",
   "metadata": {
    "execution": {
     "iopub.execute_input": "2024-09-10T10:58:04.261831Z",
     "iopub.status.busy": "2024-09-10T10:58:04.261228Z",
     "iopub.status.idle": "2024-09-10T10:58:04.270648Z",
     "shell.execute_reply": "2024-09-10T10:58:04.269575Z"
    },
    "papermill": {
     "duration": 0.023526,
     "end_time": "2024-09-10T10:58:04.273096",
     "exception": false,
     "start_time": "2024-09-10T10:58:04.249570",
     "status": "completed"
    },
    "tags": []
   },
   "outputs": [
    {
     "data": {
      "text/plain": [
       "alcohol                         0\n",
       "malic_acid                      0\n",
       "ash                             0\n",
       "alcalinity_of_ash               0\n",
       "magnesium                       0\n",
       "total_phenols                   0\n",
       "flavanoids                      0\n",
       "nonflavanoid_phenols            0\n",
       "proanthocyanins                 0\n",
       "color_intensity                 0\n",
       "hue                             0\n",
       "od280/od315_of_diluted_wines    0\n",
       "proline                         0\n",
       "dtype: int64"
      ]
     },
     "execution_count": 2,
     "metadata": {},
     "output_type": "execute_result"
    }
   ],
   "source": [
    "# Check for missing data\n",
    "df.isnull().sum()"
   ]
  },
  {
   "cell_type": "markdown",
   "id": "7728d483",
   "metadata": {
    "papermill": {
     "duration": 0.010448,
     "end_time": "2024-09-10T10:58:04.294553",
     "exception": false,
     "start_time": "2024-09-10T10:58:04.284105",
     "status": "completed"
    },
    "tags": []
   },
   "source": [
    "If there were missing values, we would handle them as follows:"
   ]
  },
  {
   "cell_type": "code",
   "execution_count": 3,
   "id": "1b449ce4",
   "metadata": {
    "execution": {
     "iopub.execute_input": "2024-09-10T10:58:04.318888Z",
     "iopub.status.busy": "2024-09-10T10:58:04.317840Z",
     "iopub.status.idle": "2024-09-10T10:58:04.664867Z",
     "shell.execute_reply": "2024-09-10T10:58:04.663848Z"
    },
    "papermill": {
     "duration": 0.361793,
     "end_time": "2024-09-10T10:58:04.667273",
     "exception": false,
     "start_time": "2024-09-10T10:58:04.305480",
     "status": "completed"
    },
    "tags": []
   },
   "outputs": [
    {
     "data": {
      "text/plain": [
       "alcohol                         0\n",
       "malic_acid                      0\n",
       "ash                             0\n",
       "alcalinity_of_ash               0\n",
       "magnesium                       0\n",
       "total_phenols                   0\n",
       "flavanoids                      0\n",
       "nonflavanoid_phenols            0\n",
       "proanthocyanins                 0\n",
       "color_intensity                 0\n",
       "hue                             0\n",
       "od280/od315_of_diluted_wines    0\n",
       "proline                         0\n",
       "dtype: int64"
      ]
     },
     "execution_count": 3,
     "metadata": {},
     "output_type": "execute_result"
    }
   ],
   "source": [
    "# Impute missing values with the mean (if any)\n",
    "from sklearn.impute import SimpleImputer\n",
    "\n",
    "imputer = SimpleImputer(strategy='mean')\n",
    "df_imputed = pd.DataFrame(imputer.fit_transform(df), columns=df.columns)\n",
    "\n",
    "# Verify that missing values have been handled\n",
    "df_imputed.isnull().sum()"
   ]
  },
  {
   "cell_type": "markdown",
   "id": "ef5340c8",
   "metadata": {
    "papermill": {
     "duration": 0.010674,
     "end_time": "2024-09-10T10:58:04.688758",
     "exception": false,
     "start_time": "2024-09-10T10:58:04.678084",
     "status": "completed"
    },
    "tags": []
   },
   "source": [
    "Step 3: Feature Scaling\n",
    "\n",
    "What is Feature Scaling?\n",
    "\n",
    "In datasets, different features can have different scales. For instance, in the Wine dataset, the alcohol feature might range from 10 to 14, while magnesium might range from 70 to 160. To ensure that no feature dominates the clustering process, we need to standardize the features.\n",
    "\n",
    "There are two common types of scaling:\n",
    "\n",
    "* Standardization: Centers the data around 0 with a standard deviation of 1.\n",
    "* Normalization: Rescales the data to a range of [0, 1].\n",
    "\n",
    "\n",
    "For clustering, we’ll standardize the data.\n"
   ]
  },
  {
   "cell_type": "markdown",
   "id": "9bedf3c0",
   "metadata": {
    "papermill": {
     "duration": 0.010406,
     "end_time": "2024-09-10T10:58:04.709909",
     "exception": false,
     "start_time": "2024-09-10T10:58:04.699503",
     "status": "completed"
    },
    "tags": []
   },
   "source": [
    "![](https://miro.medium.com/v2/resize:fit:890/1*9j33xl7N74uvn2uy1xqG7A.png)"
   ]
  },
  {
   "cell_type": "code",
   "execution_count": 4,
   "id": "29339b8b",
   "metadata": {
    "execution": {
     "iopub.execute_input": "2024-09-10T10:58:04.733069Z",
     "iopub.status.busy": "2024-09-10T10:58:04.732601Z",
     "iopub.status.idle": "2024-09-10T10:58:04.757276Z",
     "shell.execute_reply": "2024-09-10T10:58:04.756244Z"
    },
    "papermill": {
     "duration": 0.039121,
     "end_time": "2024-09-10T10:58:04.759767",
     "exception": false,
     "start_time": "2024-09-10T10:58:04.720646",
     "status": "completed"
    },
    "tags": []
   },
   "outputs": [
    {
     "data": {
      "text/html": [
       "<div>\n",
       "<style scoped>\n",
       "    .dataframe tbody tr th:only-of-type {\n",
       "        vertical-align: middle;\n",
       "    }\n",
       "\n",
       "    .dataframe tbody tr th {\n",
       "        vertical-align: top;\n",
       "    }\n",
       "\n",
       "    .dataframe thead th {\n",
       "        text-align: right;\n",
       "    }\n",
       "</style>\n",
       "<table border=\"1\" class=\"dataframe\">\n",
       "  <thead>\n",
       "    <tr style=\"text-align: right;\">\n",
       "      <th></th>\n",
       "      <th>alcohol</th>\n",
       "      <th>malic_acid</th>\n",
       "      <th>ash</th>\n",
       "      <th>alcalinity_of_ash</th>\n",
       "      <th>magnesium</th>\n",
       "      <th>total_phenols</th>\n",
       "      <th>flavanoids</th>\n",
       "      <th>nonflavanoid_phenols</th>\n",
       "      <th>proanthocyanins</th>\n",
       "      <th>color_intensity</th>\n",
       "      <th>hue</th>\n",
       "      <th>od280/od315_of_diluted_wines</th>\n",
       "      <th>proline</th>\n",
       "    </tr>\n",
       "  </thead>\n",
       "  <tbody>\n",
       "    <tr>\n",
       "      <th>0</th>\n",
       "      <td>1.518613</td>\n",
       "      <td>-0.562250</td>\n",
       "      <td>0.232053</td>\n",
       "      <td>-1.169593</td>\n",
       "      <td>1.913905</td>\n",
       "      <td>0.808997</td>\n",
       "      <td>1.034819</td>\n",
       "      <td>-0.659563</td>\n",
       "      <td>1.224884</td>\n",
       "      <td>0.251717</td>\n",
       "      <td>0.362177</td>\n",
       "      <td>1.847920</td>\n",
       "      <td>1.013009</td>\n",
       "    </tr>\n",
       "    <tr>\n",
       "      <th>1</th>\n",
       "      <td>0.246290</td>\n",
       "      <td>-0.499413</td>\n",
       "      <td>-0.827996</td>\n",
       "      <td>-2.490847</td>\n",
       "      <td>0.018145</td>\n",
       "      <td>0.568648</td>\n",
       "      <td>0.733629</td>\n",
       "      <td>-0.820719</td>\n",
       "      <td>-0.544721</td>\n",
       "      <td>-0.293321</td>\n",
       "      <td>0.406051</td>\n",
       "      <td>1.113449</td>\n",
       "      <td>0.965242</td>\n",
       "    </tr>\n",
       "    <tr>\n",
       "      <th>2</th>\n",
       "      <td>0.196879</td>\n",
       "      <td>0.021231</td>\n",
       "      <td>1.109334</td>\n",
       "      <td>-0.268738</td>\n",
       "      <td>0.088358</td>\n",
       "      <td>0.808997</td>\n",
       "      <td>1.215533</td>\n",
       "      <td>-0.498407</td>\n",
       "      <td>2.135968</td>\n",
       "      <td>0.269020</td>\n",
       "      <td>0.318304</td>\n",
       "      <td>0.788587</td>\n",
       "      <td>1.395148</td>\n",
       "    </tr>\n",
       "    <tr>\n",
       "      <th>3</th>\n",
       "      <td>1.691550</td>\n",
       "      <td>-0.346811</td>\n",
       "      <td>0.487926</td>\n",
       "      <td>-0.809251</td>\n",
       "      <td>0.930918</td>\n",
       "      <td>2.491446</td>\n",
       "      <td>1.466525</td>\n",
       "      <td>-0.981875</td>\n",
       "      <td>1.032155</td>\n",
       "      <td>1.186068</td>\n",
       "      <td>-0.427544</td>\n",
       "      <td>1.184071</td>\n",
       "      <td>2.334574</td>\n",
       "    </tr>\n",
       "    <tr>\n",
       "      <th>4</th>\n",
       "      <td>0.295700</td>\n",
       "      <td>0.227694</td>\n",
       "      <td>1.840403</td>\n",
       "      <td>0.451946</td>\n",
       "      <td>1.281985</td>\n",
       "      <td>0.808997</td>\n",
       "      <td>0.663351</td>\n",
       "      <td>0.226796</td>\n",
       "      <td>0.401404</td>\n",
       "      <td>-0.319276</td>\n",
       "      <td>0.362177</td>\n",
       "      <td>0.449601</td>\n",
       "      <td>-0.037874</td>\n",
       "    </tr>\n",
       "  </tbody>\n",
       "</table>\n",
       "</div>"
      ],
      "text/plain": [
       "    alcohol  malic_acid       ash  alcalinity_of_ash  magnesium  \\\n",
       "0  1.518613   -0.562250  0.232053          -1.169593   1.913905   \n",
       "1  0.246290   -0.499413 -0.827996          -2.490847   0.018145   \n",
       "2  0.196879    0.021231  1.109334          -0.268738   0.088358   \n",
       "3  1.691550   -0.346811  0.487926          -0.809251   0.930918   \n",
       "4  0.295700    0.227694  1.840403           0.451946   1.281985   \n",
       "\n",
       "   total_phenols  flavanoids  nonflavanoid_phenols  proanthocyanins  \\\n",
       "0       0.808997    1.034819             -0.659563         1.224884   \n",
       "1       0.568648    0.733629             -0.820719        -0.544721   \n",
       "2       0.808997    1.215533             -0.498407         2.135968   \n",
       "3       2.491446    1.466525             -0.981875         1.032155   \n",
       "4       0.808997    0.663351              0.226796         0.401404   \n",
       "\n",
       "   color_intensity       hue  od280/od315_of_diluted_wines   proline  \n",
       "0         0.251717  0.362177                      1.847920  1.013009  \n",
       "1        -0.293321  0.406051                      1.113449  0.965242  \n",
       "2         0.269020  0.318304                      0.788587  1.395148  \n",
       "3         1.186068 -0.427544                      1.184071  2.334574  \n",
       "4        -0.319276  0.362177                      0.449601 -0.037874  "
      ]
     },
     "execution_count": 4,
     "metadata": {},
     "output_type": "execute_result"
    }
   ],
   "source": [
    "from sklearn.preprocessing import StandardScaler\n",
    "\n",
    "# Standardize the features\n",
    "scaler = StandardScaler()\n",
    "X_scaled = scaler.fit_transform(df)\n",
    "\n",
    "# Convert back to a DataFrame for easier interpretation\n",
    "df_scaled = pd.DataFrame(X_scaled, columns=df.columns)\n",
    "df_scaled.head()"
   ]
  },
  {
   "cell_type": "markdown",
   "id": "75b8dc57",
   "metadata": {
    "papermill": {
     "duration": 0.010744,
     "end_time": "2024-09-10T10:58:04.781463",
     "exception": false,
     "start_time": "2024-09-10T10:58:04.770719",
     "status": "completed"
    },
    "tags": []
   },
   "source": [
    "Step 4: Feature Selection\n",
    "\n",
    "What is Feature Selection?\n",
    "\n",
    "Not all features are always relevant or useful for a given task. Feature selection helps you identify the most important features and remove irrelevant or redundant ones. This reduces the complexity of the model and often improves performance.\n",
    "\n",
    "For this example, we’ll assume that we have domain knowledge and know which features are important. Alternatively, you could use automated methods like Recursive Feature Elimination (RFE) or feature importance scores.\n",
    "\n"
   ]
  },
  {
   "cell_type": "markdown",
   "id": "b5b7d043",
   "metadata": {
    "papermill": {
     "duration": 0.010459,
     "end_time": "2024-09-10T10:58:04.802832",
     "exception": false,
     "start_time": "2024-09-10T10:58:04.792373",
     "status": "completed"
    },
    "tags": []
   },
   "source": [
    "![](https://substackcdn.com/image/fetch/f_auto,q_auto:good,fl_progressive:steep/https%3A%2F%2Fsubstack-post-media.s3.amazonaws.com%2Fpublic%2Fimages%2F2dc2b4b4-a454-4aba-adb8-a9d662ba478a_1922x1511.jpeg)"
   ]
  },
  {
   "cell_type": "code",
   "execution_count": 5,
   "id": "c92778d0",
   "metadata": {
    "execution": {
     "iopub.execute_input": "2024-09-10T10:58:04.826703Z",
     "iopub.status.busy": "2024-09-10T10:58:04.825969Z",
     "iopub.status.idle": "2024-09-10T10:58:04.842895Z",
     "shell.execute_reply": "2024-09-10T10:58:04.841814Z"
    },
    "papermill": {
     "duration": 0.031525,
     "end_time": "2024-09-10T10:58:04.845173",
     "exception": false,
     "start_time": "2024-09-10T10:58:04.813648",
     "status": "completed"
    },
    "tags": []
   },
   "outputs": [
    {
     "data": {
      "text/html": [
       "<div>\n",
       "<style scoped>\n",
       "    .dataframe tbody tr th:only-of-type {\n",
       "        vertical-align: middle;\n",
       "    }\n",
       "\n",
       "    .dataframe tbody tr th {\n",
       "        vertical-align: top;\n",
       "    }\n",
       "\n",
       "    .dataframe thead th {\n",
       "        text-align: right;\n",
       "    }\n",
       "</style>\n",
       "<table border=\"1\" class=\"dataframe\">\n",
       "  <thead>\n",
       "    <tr style=\"text-align: right;\">\n",
       "      <th></th>\n",
       "      <th>alcohol</th>\n",
       "      <th>flavanoids</th>\n",
       "      <th>total_phenols</th>\n",
       "      <th>od280/od315_of_diluted_wines</th>\n",
       "    </tr>\n",
       "  </thead>\n",
       "  <tbody>\n",
       "    <tr>\n",
       "      <th>0</th>\n",
       "      <td>1.518613</td>\n",
       "      <td>1.034819</td>\n",
       "      <td>0.808997</td>\n",
       "      <td>1.847920</td>\n",
       "    </tr>\n",
       "    <tr>\n",
       "      <th>1</th>\n",
       "      <td>0.246290</td>\n",
       "      <td>0.733629</td>\n",
       "      <td>0.568648</td>\n",
       "      <td>1.113449</td>\n",
       "    </tr>\n",
       "    <tr>\n",
       "      <th>2</th>\n",
       "      <td>0.196879</td>\n",
       "      <td>1.215533</td>\n",
       "      <td>0.808997</td>\n",
       "      <td>0.788587</td>\n",
       "    </tr>\n",
       "    <tr>\n",
       "      <th>3</th>\n",
       "      <td>1.691550</td>\n",
       "      <td>1.466525</td>\n",
       "      <td>2.491446</td>\n",
       "      <td>1.184071</td>\n",
       "    </tr>\n",
       "    <tr>\n",
       "      <th>4</th>\n",
       "      <td>0.295700</td>\n",
       "      <td>0.663351</td>\n",
       "      <td>0.808997</td>\n",
       "      <td>0.449601</td>\n",
       "    </tr>\n",
       "  </tbody>\n",
       "</table>\n",
       "</div>"
      ],
      "text/plain": [
       "    alcohol  flavanoids  total_phenols  od280/od315_of_diluted_wines\n",
       "0  1.518613    1.034819       0.808997                      1.847920\n",
       "1  0.246290    0.733629       0.568648                      1.113449\n",
       "2  0.196879    1.215533       0.808997                      0.788587\n",
       "3  1.691550    1.466525       2.491446                      1.184071\n",
       "4  0.295700    0.663351       0.808997                      0.449601"
      ]
     },
     "execution_count": 5,
     "metadata": {},
     "output_type": "execute_result"
    }
   ],
   "source": [
    "# Select a subset of features based on domain knowledge (for demonstration)\n",
    "df_selected = df_scaled[['alcohol', 'flavanoids', 'total_phenols', 'od280/od315_of_diluted_wines']]\n",
    "\n",
    "# Preview the selected features\n",
    "df_selected.head()\n"
   ]
  },
  {
   "cell_type": "markdown",
   "id": "8bd8671a",
   "metadata": {
    "papermill": {
     "duration": 0.010832,
     "end_time": "2024-09-10T10:58:04.867161",
     "exception": false,
     "start_time": "2024-09-10T10:58:04.856329",
     "status": "completed"
    },
    "tags": []
   },
   "source": [
    "In this case, we’re selecting features like alcohol content, flavonoids, and total phenols, which are critical in distinguishing different types of wine."
   ]
  },
  {
   "cell_type": "markdown",
   "id": "4116658a",
   "metadata": {
    "papermill": {
     "duration": 0.011097,
     "end_time": "2024-09-10T10:58:04.889500",
     "exception": false,
     "start_time": "2024-09-10T10:58:04.878403",
     "status": "completed"
    },
    "tags": []
   },
   "source": [
    "3. Clustering with K-Means\n",
    "\n",
    "Now that our data is preprocessed, we can apply the K-Means algorithm to group the wines into clusters.\n",
    "\n",
    "**What is K-Means?**\n",
    "\n",
    "K-Means is a clustering algorithm that divides the data into K clusters. The algorithm works by assigning each data point to the nearest cluster and iteratively updating the cluster centers until convergence.\n",
    "\n"
   ]
  },
  {
   "cell_type": "markdown",
   "id": "9f82a3b4",
   "metadata": {
    "papermill": {
     "duration": 0.011182,
     "end_time": "2024-09-10T10:58:04.912085",
     "exception": false,
     "start_time": "2024-09-10T10:58:04.900903",
     "status": "completed"
    },
    "tags": []
   },
   "source": [
    "![](https://serokell.io/files/q4/q49pm3tx.K-Means_Clustering_Algorithm_pic1_(1).png)"
   ]
  },
  {
   "cell_type": "markdown",
   "id": "7a306eee",
   "metadata": {
    "papermill": {
     "duration": 0.011214,
     "end_time": "2024-09-10T10:58:04.935178",
     "exception": false,
     "start_time": "2024-09-10T10:58:04.923964",
     "status": "completed"
    },
    "tags": []
   },
   "source": [
    "Step 1: Apply K-Means\n",
    "\n",
    "We’ll use K-Means to cluster the wines into 3 groups (since there are 3 types of wine in the dataset)."
   ]
  },
  {
   "cell_type": "code",
   "execution_count": 6,
   "id": "d07d0d71",
   "metadata": {
    "execution": {
     "iopub.execute_input": "2024-09-10T10:58:04.960374Z",
     "iopub.status.busy": "2024-09-10T10:58:04.959955Z",
     "iopub.status.idle": "2024-09-10T10:58:05.153974Z",
     "shell.execute_reply": "2024-09-10T10:58:05.152420Z"
    },
    "papermill": {
     "duration": 0.210066,
     "end_time": "2024-09-10T10:58:05.156779",
     "exception": false,
     "start_time": "2024-09-10T10:58:04.946713",
     "status": "completed"
    },
    "tags": []
   },
   "outputs": [
    {
     "name": "stderr",
     "output_type": "stream",
     "text": [
      "/opt/conda/lib/python3.10/site-packages/sklearn/cluster/_kmeans.py:870: FutureWarning: The default value of `n_init` will change from 10 to 'auto' in 1.4. Set the value of `n_init` explicitly to suppress the warning\n",
      "  warnings.warn(\n"
     ]
    },
    {
     "data": {
      "text/html": [
       "<div>\n",
       "<style scoped>\n",
       "    .dataframe tbody tr th:only-of-type {\n",
       "        vertical-align: middle;\n",
       "    }\n",
       "\n",
       "    .dataframe tbody tr th {\n",
       "        vertical-align: top;\n",
       "    }\n",
       "\n",
       "    .dataframe thead th {\n",
       "        text-align: right;\n",
       "    }\n",
       "</style>\n",
       "<table border=\"1\" class=\"dataframe\">\n",
       "  <thead>\n",
       "    <tr style=\"text-align: right;\">\n",
       "      <th></th>\n",
       "      <th>alcohol</th>\n",
       "      <th>malic_acid</th>\n",
       "      <th>ash</th>\n",
       "      <th>alcalinity_of_ash</th>\n",
       "      <th>magnesium</th>\n",
       "      <th>total_phenols</th>\n",
       "      <th>flavanoids</th>\n",
       "      <th>nonflavanoid_phenols</th>\n",
       "      <th>proanthocyanins</th>\n",
       "      <th>color_intensity</th>\n",
       "      <th>hue</th>\n",
       "      <th>od280/od315_of_diluted_wines</th>\n",
       "      <th>proline</th>\n",
       "      <th>cluster</th>\n",
       "    </tr>\n",
       "  </thead>\n",
       "  <tbody>\n",
       "    <tr>\n",
       "      <th>0</th>\n",
       "      <td>14.23</td>\n",
       "      <td>1.71</td>\n",
       "      <td>2.43</td>\n",
       "      <td>15.6</td>\n",
       "      <td>127.0</td>\n",
       "      <td>2.80</td>\n",
       "      <td>3.06</td>\n",
       "      <td>0.28</td>\n",
       "      <td>2.29</td>\n",
       "      <td>5.64</td>\n",
       "      <td>1.04</td>\n",
       "      <td>3.92</td>\n",
       "      <td>1065.0</td>\n",
       "      <td>2</td>\n",
       "    </tr>\n",
       "    <tr>\n",
       "      <th>1</th>\n",
       "      <td>13.20</td>\n",
       "      <td>1.78</td>\n",
       "      <td>2.14</td>\n",
       "      <td>11.2</td>\n",
       "      <td>100.0</td>\n",
       "      <td>2.65</td>\n",
       "      <td>2.76</td>\n",
       "      <td>0.26</td>\n",
       "      <td>1.28</td>\n",
       "      <td>4.38</td>\n",
       "      <td>1.05</td>\n",
       "      <td>3.40</td>\n",
       "      <td>1050.0</td>\n",
       "      <td>2</td>\n",
       "    </tr>\n",
       "    <tr>\n",
       "      <th>2</th>\n",
       "      <td>13.16</td>\n",
       "      <td>2.36</td>\n",
       "      <td>2.67</td>\n",
       "      <td>18.6</td>\n",
       "      <td>101.0</td>\n",
       "      <td>2.80</td>\n",
       "      <td>3.24</td>\n",
       "      <td>0.30</td>\n",
       "      <td>2.81</td>\n",
       "      <td>5.68</td>\n",
       "      <td>1.03</td>\n",
       "      <td>3.17</td>\n",
       "      <td>1185.0</td>\n",
       "      <td>2</td>\n",
       "    </tr>\n",
       "    <tr>\n",
       "      <th>3</th>\n",
       "      <td>14.37</td>\n",
       "      <td>1.95</td>\n",
       "      <td>2.50</td>\n",
       "      <td>16.8</td>\n",
       "      <td>113.0</td>\n",
       "      <td>3.85</td>\n",
       "      <td>3.49</td>\n",
       "      <td>0.24</td>\n",
       "      <td>2.18</td>\n",
       "      <td>7.80</td>\n",
       "      <td>0.86</td>\n",
       "      <td>3.45</td>\n",
       "      <td>1480.0</td>\n",
       "      <td>2</td>\n",
       "    </tr>\n",
       "    <tr>\n",
       "      <th>4</th>\n",
       "      <td>13.24</td>\n",
       "      <td>2.59</td>\n",
       "      <td>2.87</td>\n",
       "      <td>21.0</td>\n",
       "      <td>118.0</td>\n",
       "      <td>2.80</td>\n",
       "      <td>2.69</td>\n",
       "      <td>0.39</td>\n",
       "      <td>1.82</td>\n",
       "      <td>4.32</td>\n",
       "      <td>1.04</td>\n",
       "      <td>2.93</td>\n",
       "      <td>735.0</td>\n",
       "      <td>2</td>\n",
       "    </tr>\n",
       "  </tbody>\n",
       "</table>\n",
       "</div>"
      ],
      "text/plain": [
       "   alcohol  malic_acid   ash  alcalinity_of_ash  magnesium  total_phenols  \\\n",
       "0    14.23        1.71  2.43               15.6      127.0           2.80   \n",
       "1    13.20        1.78  2.14               11.2      100.0           2.65   \n",
       "2    13.16        2.36  2.67               18.6      101.0           2.80   \n",
       "3    14.37        1.95  2.50               16.8      113.0           3.85   \n",
       "4    13.24        2.59  2.87               21.0      118.0           2.80   \n",
       "\n",
       "   flavanoids  nonflavanoid_phenols  proanthocyanins  color_intensity   hue  \\\n",
       "0        3.06                  0.28             2.29             5.64  1.04   \n",
       "1        2.76                  0.26             1.28             4.38  1.05   \n",
       "2        3.24                  0.30             2.81             5.68  1.03   \n",
       "3        3.49                  0.24             2.18             7.80  0.86   \n",
       "4        2.69                  0.39             1.82             4.32  1.04   \n",
       "\n",
       "   od280/od315_of_diluted_wines  proline  cluster  \n",
       "0                          3.92   1065.0        2  \n",
       "1                          3.40   1050.0        2  \n",
       "2                          3.17   1185.0        2  \n",
       "3                          3.45   1480.0        2  \n",
       "4                          2.93    735.0        2  "
      ]
     },
     "execution_count": 6,
     "metadata": {},
     "output_type": "execute_result"
    }
   ],
   "source": [
    "from sklearn.cluster import KMeans\n",
    "\n",
    "# Apply K-Means with 3 clusters\n",
    "kmeans = KMeans(n_clusters=3, random_state=42)\n",
    "kmeans.fit(df_selected)\n",
    "\n",
    "# Add the cluster labels to the original dataset\n",
    "df['cluster'] = kmeans.labels_\n",
    "\n",
    "# Preview the dataset with cluster labels\n",
    "df.head()\n"
   ]
  },
  {
   "cell_type": "markdown",
   "id": "aa0757d6",
   "metadata": {
    "papermill": {
     "duration": 0.011654,
     "end_time": "2024-09-10T10:58:05.180467",
     "exception": false,
     "start_time": "2024-09-10T10:58:05.168813",
     "status": "completed"
    },
    "tags": []
   },
   "source": [
    "Step 2: Visualize the Clusters\n",
    "\n",
    "\n",
    "Visualizing clusters helps us better understand how the data is grouped. Since we have many features, we’ll visualize the clusters based on just two features: alcohol and flavanoids.\n",
    "\n"
   ]
  },
  {
   "cell_type": "code",
   "execution_count": 7,
   "id": "a7943401",
   "metadata": {
    "execution": {
     "iopub.execute_input": "2024-09-10T10:58:05.205974Z",
     "iopub.status.busy": "2024-09-10T10:58:05.205551Z",
     "iopub.status.idle": "2024-09-10T10:58:06.137991Z",
     "shell.execute_reply": "2024-09-10T10:58:06.136762Z"
    },
    "papermill": {
     "duration": 0.948642,
     "end_time": "2024-09-10T10:58:06.141051",
     "exception": false,
     "start_time": "2024-09-10T10:58:05.192409",
     "status": "completed"
    },
    "tags": []
   },
   "outputs": [
    {
     "data": {
      "image/png": "[encoded data removed]",
      "text/plain": [
       "<Figure size 1000x600 with 1 Axes>"
      ]
     },
     "metadata": {},
     "output_type": "display_data"
    }
   ],
   "source": [
    "import matplotlib.pyplot as plt\n",
    "import seaborn as sns\n",
    "\n",
    "# Visualize clusters based on alcohol and flavanoids\n",
    "plt.figure(figsize=(10, 6))\n",
    "sns.scatterplot(x=df['alcohol'], y=df['flavanoids'], hue=df['cluster'], palette='Set1', s=100)\n",
    "plt.title('K-Means Clustering of Wine Data')\n",
    "plt.xlabel('Alcohol')\n",
    "plt.ylabel('Flavanoids')\n",
    "plt.show()\n"
   ]
  },
  {
   "cell_type": "markdown",
   "id": "95c86b4f",
   "metadata": {
    "papermill": {
     "duration": 0.01305,
     "end_time": "2024-09-10T10:58:06.167890",
     "exception": false,
     "start_time": "2024-09-10T10:58:06.154840",
     "status": "completed"
    },
    "tags": []
   },
   "source": [
    "4. Dimensionality Reduction with PCA\n",
    "\n",
    "\n",
    "What is Dimensionality Reduction?\n",
    "\n",
    "Dimensionality reduction techniques like PCA help reduce the number of features in a dataset while retaining as much important information as possible. This is particularly useful for visualization and computational efficiency.\n",
    "\n",
    "![](http://)![](https://www.sc-best-practices.org/_images/dimensionality_reduction.jpeg)\n",
    "\n",
    "What is PCA?\n",
    "\n",
    "PCA transforms the original features into a set of new features (called principal components), which capture the most variance in the data. The goal is to reduce the number of dimensions while keeping the data’s structure intact.\n",
    "\n",
    "![](https://miro.medium.com/v2/resize:fit:596/1*QinDfRawRskupf4mU5bYSA.png)"
   ]
  },
  {
   "cell_type": "markdown",
   "id": "45189af2",
   "metadata": {
    "papermill": {
     "duration": 0.012856,
     "end_time": "2024-09-10T10:58:06.194077",
     "exception": false,
     "start_time": "2024-09-10T10:58:06.181221",
     "status": "completed"
    },
    "tags": []
   },
   "source": [
    "Step 1: Apply PCA\n",
    "\n",
    "We’ll apply PCA to reduce the 13-dimensional Wine dataset to 2 dimensions for visualization.\n",
    "\n"
   ]
  },
  {
   "cell_type": "code",
   "execution_count": 8,
   "id": "467a4b13",
   "metadata": {
    "execution": {
     "iopub.execute_input": "2024-09-10T10:58:06.222692Z",
     "iopub.status.busy": "2024-09-10T10:58:06.222056Z",
     "iopub.status.idle": "2024-09-10T10:58:06.243910Z",
     "shell.execute_reply": "2024-09-10T10:58:06.242652Z"
    },
    "papermill": {
     "duration": 0.039138,
     "end_time": "2024-09-10T10:58:06.246475",
     "exception": false,
     "start_time": "2024-09-10T10:58:06.207337",
     "status": "completed"
    },
    "tags": []
   },
   "outputs": [],
   "source": [
    "from sklearn.decomposition import PCA\n",
    "\n",
    "# Apply PCA to reduce to 2 components\n",
    "pca = PCA(n_components=2)\n",
    "X_pca = pca.fit_transform(X_scaled)\n",
    "\n",
    "# Add the PCA components to the dataframe\n",
    "df['PCA1'] = X_pca[:, 0]\n",
    "df['PCA2'] = X_pca[:, 1]"
   ]
  },
  {
   "cell_type": "markdown",
   "id": "66eeab80",
   "metadata": {
    "papermill": {
     "duration": 0.013027,
     "end_time": "2024-09-10T10:58:06.273223",
     "exception": false,
     "start_time": "2024-09-10T10:58:06.260196",
     "status": "completed"
    },
    "tags": []
   },
   "source": [
    "Step 2: Visualize the PCA Components\n",
    "\n",
    "We can now visualize the data in 2D space after applying PCA, while coloring the data points by their cluster labels.\n",
    "\n"
   ]
  },
  {
   "cell_type": "code",
   "execution_count": 9,
   "id": "f5476cb5",
   "metadata": {
    "execution": {
     "iopub.execute_input": "2024-09-10T10:58:06.301824Z",
     "iopub.status.busy": "2024-09-10T10:58:06.301350Z",
     "iopub.status.idle": "2024-09-10T10:58:06.670621Z",
     "shell.execute_reply": "2024-09-10T10:58:06.669482Z"
    },
    "papermill": {
     "duration": 0.387148,
     "end_time": "2024-09-10T10:58:06.673744",
     "exception": false,
     "start_time": "2024-09-10T10:58:06.286596",
     "status": "completed"
    },
    "tags": []
   },
   "outputs": [
    {
     "data": {
      "image/png": "[encoded data removed]",
      "text/plain": [
       "<Figure size 1000x600 with 1 Axes>"
      ]
     },
     "metadata": {},
     "output_type": "display_data"
    }
   ],
   "source": [
    "# Visualize the PCA components and the clusters\n",
    "plt.figure(figsize=(10, 6))\n",
    "sns.scatterplot(x=df['PCA1'], y=df['PCA2'], hue=df['cluster'], palette='Set2', s=100)\n",
    "plt.title('PCA of Wine Dataset')\n",
    "plt.xlabel('Principal Component 1')\n",
    "plt.ylabel('Principal Component 2')\n",
    "plt.show()\n"
   ]
  },
  {
   "cell_type": "markdown",
   "id": "4286ce01",
   "metadata": {
    "papermill": {
     "duration": 0.014338,
     "end_time": "2024-09-10T10:58:06.703206",
     "exception": false,
     "start_time": "2024-09-10T10:58:06.688868",
     "status": "completed"
    },
    "tags": []
   },
   "source": [
    "This plot shows how the wines are grouped into clusters after PCA reduction, making it easier to visualize in 2D."
   ]
  },
  {
   "cell_type": "markdown",
   "id": "bc32afa9",
   "metadata": {
    "papermill": {
     "duration": 0.014327,
     "end_time": "2024-09-10T10:58:06.732243",
     "exception": false,
     "start_time": "2024-09-10T10:58:06.717916",
     "status": "completed"
    },
    "tags": []
   },
   "source": [
    "5. Summary of Session 2\n",
    "\n",
    "\n",
    "In this session, we covered:\n",
    "\n",
    "* Unsupervised Learning, focusing on clustering and dimensionality reduction.\n",
    "* Key data preprocessing techniques like handling missing data, feature scaling, and feature selection.\n",
    "* Applied K-Means Clustering to group the wines into 3 clusters based on their chemical properties.\n",
    "* Used PCA to reduce the dimensionality of the dataset for easier visualization.\n",
    "\n",
    "By the end of this session, you should feel confident with data preprocessing, clustering, and dimensionality reduction techniques, and how to apply them to real-world data.\n",
    "\n"
   ]
  }
 ],
 "metadata": {
  "kaggle": {
   "accelerator": "none",
   "dataSources": [],
   "dockerImageVersionId": 30761,
   "isGpuEnabled": false,
   "isInternetEnabled": true,
   "language": "python",
   "sourceType": "notebook"
  },
  "kernelspec": {
   "display_name": "Python 3",
   "language": "python",
   "name": "python3"
  },
  "language_info": {
   "codemirror_mode": {
    "name": "ipython",
    "version": 3
   },
   "file_extension": ".py",
   "mimetype": "text/x-python",
   "name": "python",
   "nbconvert_exporter": "python",
   "pygments_lexer": "ipython3",
   "version": "3.10.14"
  },
  "papermill": {
   "default_parameters": {},
   "duration": 8.560767,
   "end_time": "2024-09-10T10:58:07.471142",
   "environment_variables": {},
   "exception": null,
   "input_path": "__notebook__.ipynb",
   "output_path": "__notebook__.ipynb",
   "parameters": {},
   "start_time": "2024-09-10T10:57:58.910375",
   "version": "2.6.0"
  }
 },
 "nbformat": 4,
 "nbformat_minor": 5
}
